{
 "cells": [
  {
   "cell_type": "markdown",
   "metadata": {},
   "source": [
    "# Collect Trends\n",
    "- This Notebook `downloads and saves` the `Trends` for the `current time` in the `DB`.\n",
    "\n",
    "- *Note_1: If you already downloaded today, the program will not let you do it again and will notify you.*\n",
    "- *Note_2: Don't worry, you can run it several times to verify it.*"
   ]
  },
  {
   "cell_type": "code",
   "execution_count": null,
   "metadata": {},
   "outputs": [],
   "source": [
    "from scraping_kit.utils_loader import load_db_and_bots\n",
    "\n",
    "db_tw, bots = load_db_and_bots()\n",
    "db_tw.collect_trends_today(bots)"
   ]
  }
 ],
 "metadata": {
  "kernelspec": {
   "display_name": "env",
   "language": "python",
   "name": "python3"
  },
  "language_info": {
   "codemirror_mode": {
    "name": "ipython",
    "version": 3
   },
   "file_extension": ".py",
   "mimetype": "text/x-python",
   "name": "python",
   "nbconvert_exporter": "python",
   "pygments_lexer": "ipython3",
   "version": "3.11.6"
  }
 },
 "nbformat": 4,
 "nbformat_minor": 2
}
