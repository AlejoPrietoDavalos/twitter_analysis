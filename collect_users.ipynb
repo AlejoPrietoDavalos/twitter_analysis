{
 "cells": [
  {
   "cell_type": "code",
   "execution_count": null,
   "metadata": {},
   "outputs": [],
   "source": [
    "from __future__ import annotations\n",
    "from typing import List, Tuple\n",
    "from pathlib import Path\n",
    "from requests import Response\n",
    "from datetime import datetime, timezone\n",
    "from concurrent.futures import ThreadPoolExecutor, as_completed\n",
    "\n",
    "import pandas as pd\n",
    "\n",
    "from scraping_kit import load_db_and_bots\n",
    "from scraping_kit.bot_scraper import BotScraper\n",
    "from scraping_kit.db.models.users import UserList\n",
    "from scraping_kit.db.models.follow import Follow, FollowList\n",
    "from scraping_kit.db.db_twitter import DBTwitter, get_check_follow, wrap_check_follow\n",
    "from scraping_kit.db.filters import filter_follow\n",
    "from twitter45.params import ArgsCheckFollow\n",
    "\n",
    "path_data = Path(\"data\")\n",
    "df_accounts = pd.read_excel(path_data / \"twitter_accounts.xlsx\").sort_values(\"followersCount\", ascending=False)\n",
    "db_tw, bots = load_db_and_bots(path_data, \"scrape_tw\")"
   ]
  },
  {
   "cell_type": "code",
   "execution_count": null,
   "metadata": {},
   "outputs": [],
   "source": [
    "MAX_WORKERS = 40\n",
    "N_BESTS = 36\n",
    "list_screennames = df_accounts[\"screenName\"].to_list()\n",
    "date_i = datetime(2024, 1, 13, tzinfo=timezone.utc)\n",
    "date_f = datetime.now(tz=timezone.utc)"
   ]
  },
  {
   "cell_type": "code",
   "execution_count": null,
   "metadata": {},
   "outputs": [],
   "source": [
    "#r = db_tw.collect_usertimeline(\n",
    "#    list_screennames,\n",
    "#    bots = bots,\n",
    "#    max_workers = MAX_WORKERS,\n",
    "#    days_to_update = 14\n",
    "#)\n",
    "users = db_tw.get_user_list(list_screennames)\n",
    "users.keep_bests(N_BESTS)\n",
    "users = db_tw.get_users_full_data(\n",
    "    profiles = users.iter_profiles(),\n",
    "    date_i = date_i,\n",
    "    date_f = date_f\n",
    ")"
   ]
  },
  {
   "cell_type": "code",
   "execution_count": null,
   "metadata": {},
   "outputs": [],
   "source": [
    "#DAYS_TO_UPDATE_FOLLOW = 120     # 4 Months.\n",
    "#with ThreadPoolExecutor(max_workers=MAX_WORKERS) as pool:\n",
    "#    iter_futures = (pool.submit(wrap_check_follow, db_tw, bots.random_bot_2(), source, target, DAYS_TO_UPDATE_FOLLOW)\n",
    "#                    for source, target in users.iter_profile_pairs())\n",
    "#    n = len(users)\n",
    "#    num_iters = n * (n - 1)\n",
    "#    for i, future in enumerate(as_completed(iter_futures), 1):\n",
    "#        is_download = future.result()\n",
    "#        txt_iter = f\"{i}/{num_iters}\"\n",
    "#        if is_download:\n",
    "#            txt_iter += \" | Download sucessfull\"\n",
    "#        print(txt_iter)"
   ]
  },
  {
   "cell_type": "code",
   "execution_count": null,
   "metadata": {},
   "outputs": [],
   "source": [
    "from scraping_kit.graph_follow import GraphFollows, KWClusters\n",
    "\n",
    "graph_follow = GraphFollows.from_users_db(db_tw, users, date_i, date_f)\n",
    "cairo_plot = graph_follow.plot(with_save=True)\n",
    "cairo_plot"
   ]
  },
  {
   "cell_type": "code",
   "execution_count": null,
   "metadata": {},
   "outputs": [],
   "source": [
    "MIN_USERS_PER_CLUSTER = 5\n",
    "kw_clusters = KWClusters.from_graph_follow(graph_follow, MIN_USERS_PER_CLUSTER)\n",
    "kw_clusters"
   ]
  },
  {
   "cell_type": "code",
   "execution_count": null,
   "metadata": {},
   "outputs": [],
   "source": [
    "kw_clusters"
   ]
  },
  {
   "cell_type": "code",
   "execution_count": null,
   "metadata": {},
   "outputs": [],
   "source": [
    "graph_follow.plot()"
   ]
  },
  {
   "cell_type": "markdown",
   "metadata": {},
   "source": [
    "# Keywords"
   ]
  },
  {
   "cell_type": "code",
   "execution_count": null,
   "metadata": {},
   "outputs": [],
   "source": [
    "user_full_data = db_tw.get_user_full_data(\n",
    "    profile = users[0].profile,\n",
    "    date_i = datetime(2023, 12, 1, tzinfo=timezone.utc),\n",
    "    date_f = datetime.now(tz=timezone.utc)\n",
    ")"
   ]
  },
  {
   "cell_type": "code",
   "execution_count": null,
   "metadata": {},
   "outputs": [],
   "source": [
    "#from datetime import datetime, timezone\n",
    "#date_i = datetime(2023, 1, 1, tzinfo=timezone.utc)\n",
    "#date_f = datetime(2023, 1, 14, tzinfo=timezone.utc)\n",
    "#users_full_data = db_tw.get_users_full_data(list_screennames, date_i, date_f)\n",
    "#for user in users_full_data.all_users:\n",
    "#    if len(user.tweets_user) != 0:\n",
    "#        #display(user.tweets_user)\n",
    "#        continue"
   ]
  },
  {
   "cell_type": "code",
   "execution_count": null,
   "metadata": {},
   "outputs": [],
   "source": [
    "from scraping_kit.db.models.users import User\n",
    "from twitter45.params import ArgsUserReplies\n",
    "def collect_user_replies(list_screennames: List[str]):\n",
    "    for user in list_screennames:\n",
    "        req_args = ArgsUserReplies.from_screenname(user.profile)\n",
    "\n"
   ]
  }
 ],
 "metadata": {
  "kernelspec": {
   "display_name": "env",
   "language": "python",
   "name": "python3"
  },
  "language_info": {
   "codemirror_mode": {
    "name": "ipython",
    "version": 3
   },
   "file_extension": ".py",
   "mimetype": "text/x-python",
   "name": "python",
   "nbconvert_exporter": "python",
   "pygments_lexer": "ipython3",
   "version": "3.11.6"
  }
 },
 "nbformat": 4,
 "nbformat_minor": 2
}
