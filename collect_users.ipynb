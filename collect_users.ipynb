{
 "cells": [
  {
   "cell_type": "code",
   "execution_count": null,
   "metadata": {},
   "outputs": [],
   "source": [
    "from pathlib import Path\n",
    "\n",
    "import pandas as pd\n",
    "\n",
    "from scraping_kit import load_db_and_bots\n",
    "\n",
    "path_data = Path(\"data\")\n",
    "df_accounts = pd.read_excel(path_data / \"twitter_accounts.xlsx\")\n",
    "df_accounts.sort_values(\"followersCount\", ascending=False, inplace=True)\n",
    "db_tw, bots = load_db_and_bots(path_data, \"scrape_tw\")"
   ]
  },
  {
   "cell_type": "code",
   "execution_count": null,
   "metadata": {},
   "outputs": [],
   "source": [
    "list_screennames = df_accounts[\"screenName\"].to_list()\n",
    "MAX_WORKERS = 40\n",
    "r = db_tw.collect_usertimeline(\n",
    "    list_screennames,\n",
    "    bots = bots,\n",
    "    max_workers = MAX_WORKERS\n",
    ")\n"
   ]
  }
 ],
 "metadata": {
  "kernelspec": {
   "display_name": "env",
   "language": "python",
   "name": "python3"
  },
  "language_info": {
   "codemirror_mode": {
    "name": "ipython",
    "version": 3
   },
   "file_extension": ".py",
   "mimetype": "text/x-python",
   "name": "python",
   "nbconvert_exporter": "python",
   "pygments_lexer": "ipython3",
   "version": "3.11.6"
  }
 },
 "nbformat": 4,
 "nbformat_minor": 2
}
