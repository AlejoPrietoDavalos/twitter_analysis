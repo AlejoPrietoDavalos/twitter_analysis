{
 "cells": [
  {
   "cell_type": "code",
   "execution_count": 1,
   "metadata": {},
   "outputs": [
    {
     "name": "stdout",
     "output_type": "stream",
     "text": [
      "Collection Names: ['tweet_user', 'raw', 'cursors', 'trends', 'search', 'user', 'user_suspended', 'topics', 'follows']\n",
      "Bots: bots=[BotScraper(acc_name='Vera')]\n"
     ]
    }
   ],
   "source": [
    "from __future__ import annotations\n",
    "from typing import List\n",
    "from pathlib import Path\n",
    "from datetime import datetime, timezone\n",
    "\n",
    "import pandas as pd\n",
    "\n",
    "from scraping_kit.graph_follow import GraphFollows, KWClusters\n",
    "from scraping_kit.utils_loader import load_db_and_bots\n",
    "\n",
    "\n",
    "def load_profiles(path_data: Path):\n",
    "    \"\"\" TODO: Ask Vera how she wants to import the users to study.\"\"\"\n",
    "    df = pd.read_excel(path_data / \"twitter_accounts.xlsx\")\n",
    "    df = df.sort_values(\"followersCount\", ascending=False)\n",
    "    profiles = df[\"screenName\"].to_list()\n",
    "    return profiles\n",
    "\n",
    "\n",
    "db_tw, bots = load_db_and_bots()\n",
    "profiles = load_profiles(db_tw.path_data)"
   ]
  },
  {
   "cell_type": "code",
   "execution_count": null,
   "metadata": {},
   "outputs": [],
   "source": [
    "date_i = datetime(2024, 1, 13, tzinfo=timezone.utc)\n",
    "date_f = datetime(2024, 1, 20, tz=timezone.utc)\n",
    "N_BESTS_USERS = 40\n",
    "MAX_WORKERS = 40\n",
    "DAYS_TO_UPDATE_TWEETS = 14\n",
    "DAYS_TO_UPDATE_FOLLOWS_LINK = 120\n",
    "WITH_UPDATE = False      # If it is false, it will do the analysis with what you have downloaded."
   ]
  },
  {
   "cell_type": "markdown",
   "metadata": {},
   "source": [
    "- `date_i:` Initial date where tweets are considered.\n",
    "- `date_i:` Final date where tweets are considered.\n",
    "- `N_BESTS_USERS:` TOP users with the most followers in the graph analysis. <span style=\"color:crimson;\">IMPORTANT!!! Then read the warning.</span>\n",
    "- `MAX_WORKERS:` Number of requests that can be made in parallel, use between `10~40`. The higher the faster, but you can saturate the API server and get blocked.\n",
    "- `DAYS_TO_UPDATE_TWEETS:` Time after collecting a user. It is not expensive, you can choose a low number, `7~14`.\n",
    "- `DAYS_TO_UPDATE_FOLLOWS_LINK:` Time after which followers are updated. Using a high number `>120 or >180`, it is expensive to collect.\n",
    "- `WITH_UPDATE:` Use `False` if you only want to view information `and not collect` it.\n",
    "\n",
    "\n",
    "##### <span style=\"color:crimson;\">WARNING: (N_BESTS_USERS)</span>\n",
    "1. ---> `Remember that you have a quota of 100k requests per month.`\n",
    "2. From the list you send you will always get the latest Tweets from each one, but it will only look for many-to-many followers, among the TOP you determine.\n",
    "3. Then the system makes `N*(N-1)` requests, where `N=N_BESTS_USERS`.\n",
    "4. If the link between `User_A` and `User_B` was already collected, it does `not make the request`.\n",
    "4. If you choose a very high number, you can consume all the monthly requests, I attach a table with the number of requests by value.\n",
    "5. **<span style=\"color:green;\">Note that: I would use a low value, and increase it little by little, collecting information and seeing how the graph changes.</span>**\n",
    "\n",
    "|N_BESTS_USERS|N_REQUESTS|\n",
    "|-------------|----------|\n",
    "|20           |<= 380    |\n",
    "|40           |<= 1560   |\n",
    "|60           |<= 3540   |\n",
    "|80           |<= 6320   |\n",
    "|100          |<= 9900   |\n",
    "|120          |<= 14280  |\n",
    "|140          |<= 19460  |\n",
    "|160          |<= 25440  |\n",
    "|180          |<= 32220  |\n",
    "|200          |<= 39800  |\n",
    "- The `graph will be plotted` with the `TOP` of `N_BESTS_USERS`\n"
   ]
  },
  {
   "cell_type": "markdown",
   "metadata": {},
   "source": [
    "### Collect and obtain the users with the most followers."
   ]
  },
  {
   "cell_type": "code",
   "execution_count": null,
   "metadata": {},
   "outputs": [],
   "source": [
    "users = db_tw.collect_and_get_users(\n",
    "    profiles = profiles,\n",
    "    bots = bots,\n",
    "    date_i = date_i,\n",
    "    date_f = date_f,\n",
    "    n_bests_users = N_BESTS_USERS,\n",
    "    days_to_update_tweets = DAYS_TO_UPDATE_TWEETS,\n",
    "    days_to_update_follow_link = DAYS_TO_UPDATE_FOLLOWS_LINK,\n",
    "    with_update = WITH_UPDATE,\n",
    "    max_workers = MAX_WORKERS\n",
    ")\n",
    "graph_follow = GraphFollows.from_users_db(db_tw, users, date_i, date_f)"
   ]
  },
  {
   "cell_type": "code",
   "execution_count": null,
   "metadata": {},
   "outputs": [],
   "source": [
    "colors_ranges = [\n",
    "    (0, \"#666\"),\n",
    "    (1, \"#E6BE37\"),\n",
    "    (2, \"#ED851D\"),\n",
    "    (3, \"#FF0000\"),\n",
    "]\n",
    "MODE_PLOT_GRAPH = 'in'      # Can use 'in', 'out' or 'sum'.\n",
    "WITH_SAVE = True\n",
    "\n",
    "cairo_plot = graph_follow.plot(\n",
    "    with_save = WITH_SAVE,\n",
    "    colors_ranges = colors_ranges,\n",
    "    mode = MODE_PLOT_GRAPH\n",
    ")\n",
    "cairo_plot"
   ]
  },
  {
   "cell_type": "code",
   "execution_count": null,
   "metadata": {},
   "outputs": [],
   "source": [
    "MIN_USERS_PER_CLUSTER = 2\n",
    "kw_clusters = KWClusters.from_graph_follow(graph_follow, MIN_USERS_PER_CLUSTER)\n",
    "kw_clusters"
   ]
  }
 ],
 "metadata": {
  "kernelspec": {
   "display_name": "env",
   "language": "python",
   "name": "python3"
  },
  "language_info": {
   "codemirror_mode": {
    "name": "ipython",
    "version": 3
   },
   "file_extension": ".py",
   "mimetype": "text/x-python",
   "name": "python",
   "nbconvert_exporter": "python",
   "pygments_lexer": "ipython3",
   "version": "3.11.6"
  }
 },
 "nbformat": 4,
 "nbformat_minor": 2
}
