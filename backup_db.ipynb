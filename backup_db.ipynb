{
 "cells": [
  {
   "cell_type": "markdown",
   "metadata": {},
   "source": [
    "# Backup Database\n",
    "### **It is `recommended` to make backups `after downloading`**.\n",
    "- You `can do` this as `many times as you want`, they will be saved inside `\"data/backup_db\"` with a name based on the date in the current second.\n",
    "\n",
    "- *Note_1: The backups do not weigh too much, just a few KB or MB, in the event that you run out of space, simply delete the containing folder.*\n",
    "- *Note_2: Alternatively you can go back to previous moments of the DB using `\"load_db.sh\"`, but it can be dangerous, in which case consult me.*"
   ]
  },
  {
   "cell_type": "code",
   "execution_count": null,
   "metadata": {},
   "outputs": [],
   "source": [
    "from datetime import datetime\n",
    "import os\n",
    "\n",
    "def date_to_full_str(d: datetime) -> str:\n",
    "    year = str(d.year).zfill(4)\n",
    "    _t_aux = [d.month, d.day, d.hour, d.minute, d.second]\n",
    "    _t_aux = [str(t).zfill(2) for t in _t_aux]\n",
    "    return \"_\".join([year] + _t_aux)\n",
    "\n",
    "def save_db() -> None:\n",
    "    date_now = datetime.now()\n",
    "    os.system(f\"mongodump --db scrape_tw --out data/backup_db/date_{date_to_full_str(date_now)}\")\n",
    "\n",
    "save_db()"
   ]
  }
 ],
 "metadata": {
  "kernelspec": {
   "display_name": "env",
   "language": "python",
   "name": "python3"
  },
  "language_info": {
   "codemirror_mode": {
    "name": "ipython",
    "version": 3
   },
   "file_extension": ".py",
   "mimetype": "text/x-python",
   "name": "python",
   "nbconvert_exporter": "python",
   "pygments_lexer": "ipython3",
   "version": "3.11.6"
  }
 },
 "nbformat": 4,
 "nbformat_minor": 2
}
