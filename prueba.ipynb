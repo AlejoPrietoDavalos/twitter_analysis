{
 "cells": [
  {
   "cell_type": "code",
   "execution_count": 1,
   "metadata": {},
   "outputs": [
    {
     "name": "stdout",
     "output_type": "stream",
     "text": [
      "Collection Names: ['tweet_user', 'topics_user', 'raw', 'cursors', 'trends', 'search', 'user', 'user_suspended', 'topics', 'follows']\n",
      "Bots: bots=[BotScraper(acc_name='Vera')]\n"
     ]
    }
   ],
   "source": [
    "from scraping_kit.utils_loader import load_db_and_bots\n",
    "db_tw, _ = load_db_and_bots()"
   ]
  },
  {
   "cell_type": "code",
   "execution_count": 10,
   "metadata": {},
   "outputs": [
    {
     "data": {
      "text/plain": [
       "{'labels': ['Digital creators',\n",
       "  'Arts and culture news',\n",
       "  'Gaming news',\n",
       "  'Local news',\n",
       "  'Entertainment',\n",
       "  'Tech news',\n",
       "  'Entertainment brands',\n",
       "  'Social movements',\n",
       "  'Popular franchises',\n",
       "  'Music news',\n",
       "  'Sports news',\n",
       "  'Theater',\n",
       "  'Science news',\n",
       "  'Movie news',\n",
       "  'COVID-19',\n",
       "  'World news',\n",
       "  'US national news',\n",
       "  'Business & finance news',\n",
       "  'Health news',\n",
       "  'Celebrities',\n",
       "  'Comedy'],\n",
       " 'scores': [0.2667894661426544,\n",
       "  0.07572963833808899,\n",
       "  0.06136301904916763,\n",
       "  0.052232515066862106,\n",
       "  0.05142461508512497,\n",
       "  0.05135736241936684,\n",
       "  0.048318296670913696,\n",
       "  0.04312159866094589,\n",
       "  0.04270371049642563,\n",
       "  0.04167511686682701,\n",
       "  0.034903302788734436,\n",
       "  0.026598479598760605,\n",
       "  0.026049520820379257,\n",
       "  0.025304164737462997,\n",
       "  0.024982884526252747,\n",
       "  0.02399594709277153,\n",
       "  0.023848630487918854,\n",
       "  0.02371404320001602,\n",
       "  0.021199023351073265,\n",
       "  0.017850950360298157,\n",
       "  0.0168375913053751],\n",
       " 'n_first_texts': 8}"
      ]
     },
     "execution_count": 10,
     "metadata": {},
     "output_type": "execute_result"
    }
   ],
   "source": [
    "db_tw.coll.topics_user.find_one({\"profile\": \"0xNeroOne\"})[\"topics_2\"]"
   ]
  }
 ],
 "metadata": {
  "kernelspec": {
   "display_name": "env",
   "language": "python",
   "name": "python3"
  },
  "language_info": {
   "codemirror_mode": {
    "name": "ipython",
    "version": 3
   },
   "file_extension": ".py",
   "mimetype": "text/x-python",
   "name": "python",
   "nbconvert_exporter": "python",
   "pygments_lexer": "ipython3",
   "version": "3.11.6"
  }
 },
 "nbformat": 4,
 "nbformat_minor": 2
}
