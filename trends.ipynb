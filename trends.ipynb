{
 "cells": [
  {
   "cell_type": "code",
   "execution_count": 2,
   "metadata": {},
   "outputs": [
    {
     "name": "stdout",
     "output_type": "stream",
     "text": [
      "Collection Names: ['raw', 'trends']\n",
      "Bots: bots=[BotScraper(acc_name='Vera')]\n"
     ]
    }
   ],
   "source": [
    "from __future__ import annotations\n",
    "from pathlib import Path\n",
    "\n",
    "from scraping_kit import load_db_and_bots\n",
    "\n",
    "from scraping_kit.utils import date_one_day\n",
    "\n",
    "path_data = Path(\"data\")\n",
    "db_tw, bots = load_db_and_bots(path_data, \"scrape_tw\")"
   ]
  },
  {
   "cell_type": "code",
   "execution_count": null,
   "metadata": {},
   "outputs": [],
   "source": [
    "db_tw.db.drop_collection(\"raw\")\n",
    "db_tw.db.drop_collection(\"trends\")"
   ]
  },
  {
   "cell_type": "code",
   "execution_count": null,
   "metadata": {},
   "outputs": [],
   "source": [
    "date = date_one_day(2023, 12, 28)\n",
    "date"
   ]
  },
  {
   "cell_type": "code",
   "execution_count": null,
   "metadata": {},
   "outputs": [],
   "source": [
    "#trends = db_tw.coll.trends_from_insert_id(insert_one_result_trend)     # --> Search by id in the DB.\n",
    "trends = db_tw.coll.trends_from_date_range(date)                        # --> Search by date range, returns the first result found in that range.\n",
    "\n",
    "df_trends = trends.get_df()\n",
    "df_trends"
   ]
  },
  {
   "cell_type": "code",
   "execution_count": null,
   "metadata": {},
   "outputs": [],
   "source": []
  },
  {
   "cell_type": "code",
   "execution_count": null,
   "metadata": {},
   "outputs": [],
   "source": []
  }
 ],
 "metadata": {
  "kernelspec": {
   "display_name": "env",
   "language": "python",
   "name": "python3"
  },
  "language_info": {
   "codemirror_mode": {
    "name": "ipython",
    "version": 3
   },
   "file_extension": ".py",
   "mimetype": "text/x-python",
   "name": "python",
   "nbconvert_exporter": "python",
   "pygments_lexer": "ipython3",
   "version": "3.11.6"
  }
 },
 "nbformat": 4,
 "nbformat_minor": 2
}
