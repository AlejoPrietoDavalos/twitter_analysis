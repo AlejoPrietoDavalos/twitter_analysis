{
 "cells": [
  {
   "cell_type": "markdown",
   "metadata": {},
   "source": [
    "- With 2 it should work without problems.\n",
    "- If your computer resists you can try with 3 or 4.\n",
    "- Try between 2 and 4, and close absolutely everything that is running on your computer at the time.\n",
    "- But more does not guarantee greater speed, because there is a hardware limit.\n",
    "- Sometimes increasing processes makes it slower."
   ]
  },
  {
   "cell_type": "code",
   "execution_count": null,
   "metadata": {},
   "outputs": [],
   "source": [
    "from scraping_kit.const import TOPICS_FROM_USERS\n",
    "import subprocess\n",
    "N_BESTS_USERS = 10              # Only collect the topics for the users with the most followers. Set -1 for collect ALL.\n",
    "DAYS_TO_UPDATE_TOPICS = 30\n",
    "file_name = \"twitter_accounts.xlsx\"\n",
    "MIN_TWEETS_TO_CLASSIFY = 3      # Because few tweets do not provide enough statistics to decide.\n",
    "MAX_TWEETS_TO_CLASSIFY = 15     # Because too many Tweets are redundant and take a long time to classify.\n",
    "N_PROCESS = 2   # WARNING!! READ ABOVE.\n",
    "MAX_WORKERS = 20\n",
    "subprocess.run([\n",
    "    \"python3\",\n",
    "    \"ignore_me_collect_topics_users.py\",\n",
    "    str(N_BESTS_USERS),\n",
    "    str(DAYS_TO_UPDATE_TOPICS),\n",
    "    str(file_name),\n",
    "    str(MIN_TWEETS_TO_CLASSIFY),\n",
    "    str(MAX_TWEETS_TO_CLASSIFY),\n",
    "    str(N_PROCESS),\n",
    "    TOPICS_FROM_USERS,\n",
    "    str(MAX_WORKERS)\n",
    "])"
   ]
  }
 ],
 "metadata": {
  "kernelspec": {
   "display_name": "env",
   "language": "python",
   "name": "python3"
  },
  "language_info": {
   "codemirror_mode": {
    "name": "ipython",
    "version": 3
   },
   "file_extension": ".py",
   "mimetype": "text/x-python",
   "name": "python",
   "nbconvert_exporter": "python",
   "pygments_lexer": "ipython3",
   "version": "3.11.6"
  }
 },
 "nbformat": 4,
 "nbformat_minor": 2
}
