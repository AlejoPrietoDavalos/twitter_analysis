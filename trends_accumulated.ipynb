{
 "cells": [
  {
   "cell_type": "markdown",
   "metadata": {},
   "source": [
    "# Trends Accumulated in time range\n",
    "- This Notebook `obtains and saves` within `\"reports/trends_accumulated\"` the `Trends accumulated` in a given `date range`.\n",
    "\n",
    "##### What exactly does the script do?\n",
    "- Receives a `DATE_FROM` and `DATE_TO` range.\n",
    "- Obtains all the `Trends` within the `DB` in that `time range`.\n",
    "- Unifies into the same DataFrame, adding the `\"volume\"` column for equal Trends.\n",
    "- Concatenates the unique values non-empty within `\"domainContext\"`.\n",
    "- Save the result in a `.CSV` inside `\"reports/trends_accumulated\"`.\n",
    "\n",
    "---\n",
    "\n",
    "##### You can modify these parameters.\n",
    "- `WITH_SAVE:` If `True`, saves it to `\"reports/trends_accumulated\"`, `False` does not save it.\n",
    "- `DATE_FROM:` Initial date of the analysis (inclusive).\n",
    "- `DATE_TO:` End date of the analysis (inclusive).\n",
    "\n",
    "---\n",
    "\n",
    "- *Note_1: If there are no Trends on any of the dates in the interval, you will be notified with a text here.*\n",
    "- *Note_2: If there is at least 1 day with Trends in the interval, it will do the accumulation.*\n",
    "- *Note_3: If Trends in days are missing at the beginning or end, it will limit the interval where there are no gaps at the edges.*"
   ]
  },
  {
   "cell_type": "code",
   "execution_count": null,
   "metadata": {},
   "outputs": [],
   "source": [
    "from datetime import datetime\n",
    "from pathlib import Path\n",
    "from scraping_kit import load_db_and_bots\n",
    "\n",
    "path_data = Path(\"data\")\n",
    "db_tw, bots = load_db_and_bots(path_data, \"scrape_tw\")"
   ]
  },
  {
   "cell_type": "code",
   "execution_count": null,
   "metadata": {},
   "outputs": [],
   "source": [
    "WITH_SAVE = True\n",
    "DATE_FROM = datetime(year=2023, month=12, day=28)\n",
    "DATE_TO = datetime(year=2023, month=12, day=31)\n",
    "\n",
    "\n",
    "df_accumulated = db_tw.get_trends_df_accumulated(date_from=DATE_FROM, date_to=DATE_TO, with_save=WITH_SAVE)\n",
    "df_accumulated"
   ]
  },
  {
   "cell_type": "code",
   "execution_count": null,
   "metadata": {},
   "outputs": [],
   "source": []
  }
 ],
 "metadata": {
  "kernelspec": {
   "display_name": "env",
   "language": "python",
   "name": "python3"
  },
  "language_info": {
   "codemirror_mode": {
    "name": "ipython",
    "version": 3
   },
   "file_extension": ".py",
   "mimetype": "text/x-python",
   "name": "python",
   "nbconvert_exporter": "python",
   "pygments_lexer": "ipython3",
   "version": "3.11.6"
  }
 },
 "nbformat": 4,
 "nbformat_minor": 2
}
