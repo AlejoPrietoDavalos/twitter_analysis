{
 "cells": [
  {
   "cell_type": "markdown",
   "metadata": {},
   "source": [
    "# Trends Per Day\n",
    "- This Notebook `obtains and saves` within `\"reports/trends_per_day\"` the `Trends` for a `single given day`.\n",
    "\n",
    "##### What exactly does the script do?\n",
    "- Receive a date.\n",
    "- Obtains the `Trends` for `that date` within the `DB`.\n",
    "- `Save the result` in a `.CSV` inside `\"reports/trends_per_day\"`.\n",
    "\n",
    "---\n",
    "\n",
    "##### You can modify these parameters.\n",
    "- `YEAR, MONTH, DAY:` Date on which `Trends` are `searched` within the `database`.\n",
    "- `WITH_SAVE:` If `True`, `save the result` inside `\"reports/trends_per_day\"`, if False not.\n",
    "\n",
    "---\n",
    "\n",
    "- *Note: If there are no Trends in the DB for that date, it will not do anything.*"
   ]
  },
  {
   "cell_type": "code",
   "execution_count": null,
   "metadata": {},
   "outputs": [],
   "source": [
    "from pathlib import Path\n",
    "from scraping_kit import load_db_and_bots\n",
    "\n",
    "path_data = Path(\"data\")\n",
    "db_tw, bots = load_db_and_bots(path_data, \"scrape_tw\")"
   ]
  },
  {
   "cell_type": "code",
   "execution_count": null,
   "metadata": {},
   "outputs": [],
   "source": [
    "YEAR = 2023\n",
    "MONTH = 12\n",
    "DAY = 30\n",
    "WITH_SAVE = True\n",
    "\n",
    "df_trends = db_tw.get_trends_df_per_day(year=YEAR, month=MONTH, day=DAY, with_save=WITH_SAVE)\n",
    "df_trends"
   ]
  }
 ],
 "metadata": {
  "kernelspec": {
   "display_name": "env",
   "language": "python",
   "name": "python3"
  },
  "language_info": {
   "codemirror_mode": {
    "name": "ipython",
    "version": 3
   },
   "file_extension": ".py",
   "mimetype": "text/x-python",
   "name": "python",
   "nbconvert_exporter": "python",
   "pygments_lexer": "ipython3",
   "version": "3.11.6"
  }
 },
 "nbformat": 4,
 "nbformat_minor": 2
}
