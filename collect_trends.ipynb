{
 "cells": [
  {
   "cell_type": "code",
   "execution_count": 1,
   "metadata": {},
   "outputs": [
    {
     "name": "stdout",
     "output_type": "stream",
     "text": [
      "Collection Names: ['raw', 'trends']\n",
      "Bots: bots=[BotScraper(acc_name='Vera')]\n"
     ]
    }
   ],
   "source": [
    "from pathlib import Path\n",
    "\n",
    "from twitter_trends import ArgsTwitterTrends, ParamsTwitterTrends, WOEIDCountry, requests_and_process\n",
    "from scraping_kit import load_db_and_bots\n",
    "\n",
    "path_data = Path(\"data\")\n",
    "db_tw, bots = load_db_and_bots(path_data, \"scrape_tw\")"
   ]
  },
  {
   "cell_type": "code",
   "execution_count": 2,
   "metadata": {},
   "outputs": [
    {
     "name": "stdout",
     "output_type": "stream",
     "text": [
      "You already have a Trends on the date: 2023-12-29 18:30:3\n",
      "You don't need to download again.\n"
     ]
    }
   ],
   "source": [
    "req_args = ArgsTwitterTrends(data=ParamsTwitterTrends(woeid=WOEIDCountry.united_states))    # You can change woeid if you need.\n",
    "idx_bot_choiced, bot_choiced = bots.random_bot()\n",
    "\n",
    "insert_one_result_trend = requests_and_process(db_tw, req_args, bot_choiced)\n",
    "insert_one_result_trend"
   ]
  }
 ],
 "metadata": {
  "kernelspec": {
   "display_name": "env",
   "language": "python",
   "name": "python3"
  },
  "language_info": {
   "codemirror_mode": {
    "name": "ipython",
    "version": 3
   },
   "file_extension": ".py",
   "mimetype": "text/x-python",
   "name": "python",
   "nbconvert_exporter": "python",
   "pygments_lexer": "ipython3",
   "version": "3.11.6"
  }
 },
 "nbformat": 4,
 "nbformat_minor": 2
}
