{
 "cells": [
  {
   "cell_type": "code",
   "execution_count": 1,
   "metadata": {},
   "outputs": [
    {
     "name": "stdout",
     "output_type": "stream",
     "text": [
      "Collection Names: ['trends', 'raw']\n",
      "Bots: bots=[BotScraper(acc_name='Vera')]\n"
     ]
    }
   ],
   "source": [
    "from pathlib import Path\n",
    "\n",
    "from pymongo.results import InsertOneResult\n",
    "\n",
    "from twitter_trends import ArgsTwitterTrends, ParamsTwitterTrends, WOEIDCountry\n",
    "from scraping_kit.db.models.raw import RawData\n",
    "from scraping_kit.db.models.trends import Trends\n",
    "from scraping_kit.db.db_twitter import DBTwitter\n",
    "from scraping_kit import load_db_and_bots, BotScraper\n",
    "\n",
    "path_data = Path(\"data\")\n",
    "db_tw, bots = load_db_and_bots(path_data, \"scrape_tw\")"
   ]
  },
  {
   "cell_type": "code",
   "execution_count": null,
   "metadata": {},
   "outputs": [],
   "source": [
    "def process_trends_raw_data(db_tw: DBTwitter, insert_one_result_raw: InsertOneResult) -> InsertOneResult:\n",
    "    raw_data = db_tw.coll.raw.find_one(insert_one_result_raw.inserted_id)\n",
    "    raw_data = RawData(**raw_data)\n",
    "    trends = Trends.from_raw(raw_data)\n",
    "    insert_one_result_trend = db_tw.coll.trends.insert_one(trends.model_dump())     # TODO: Check its ok.\n",
    "    return insert_one_result_trend\n",
    "\n",
    "def requests_trends_and_save(db_tw: DBTwitter, req_args: ArgsTwitterTrends, bot: BotScraper) -> InsertOneResult:\n",
    "    response, creation_date = bot.get_response(req_args)\n",
    "    insert_one_result_raw = db_tw.add_raw_data(req_args, response, creation_date)\n",
    "    return insert_one_result_raw\n",
    "\n",
    "def requests_and_process(db_tw: DBTwitter, req_args: ArgsTwitterTrends, bot: BotScraper) -> InsertOneResult:\n",
    "    insert_one_result_raw = requests_trends_and_save(db_tw, req_args, bot)\n",
    "    insert_one_result_trend = process_trends_raw_data(db_tw, insert_one_result_raw)\n",
    "    db_tw.coll.change_is_processed(insert_one_result_raw)\n",
    "    return insert_one_result_trend"
   ]
  },
  {
   "cell_type": "code",
   "execution_count": null,
   "metadata": {},
   "outputs": [],
   "source": [
    "req_args = ArgsTwitterTrends(data=ParamsTwitterTrends(woeid=WOEIDCountry.united_states))    # You can change woeid if you need.\n",
    "idx_bot_choiced, bot_choiced = bots.random_bot()\n",
    "\n",
    "insert_one_result_trend = requests_and_process(db_tw, req_args, bot_choiced)\n",
    "insert_one_result_trend"
   ]
  }
 ],
 "metadata": {
  "kernelspec": {
   "display_name": "env",
   "language": "python",
   "name": "python3"
  },
  "language_info": {
   "codemirror_mode": {
    "name": "ipython",
    "version": 3
   },
   "file_extension": ".py",
   "mimetype": "text/x-python",
   "name": "python",
   "nbconvert_exporter": "python",
   "pygments_lexer": "ipython3",
   "version": "3.11.6"
  }
 },
 "nbformat": 4,
 "nbformat_minor": 2
}
