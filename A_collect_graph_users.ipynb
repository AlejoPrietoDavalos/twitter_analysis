{
 "cells": [
  {
   "cell_type": "code",
   "execution_count": null,
   "metadata": {},
   "outputs": [],
   "source": [
    "from __future__ import annotations\n",
    "from scraping_kit.utils import get_datetime\n",
    "from scraping_kit.graph_follow import GraphFollows, KWClusters, GraphPlotStyle\n",
    "from scraping_kit.utils_loader import load_db_and_bots, load_profiles\n",
    "\n",
    "db_tw, bots = load_db_and_bots()\n",
    "profiles = load_profiles(file_name=\"twitter_accounts.xlsx\")"
   ]
  },
  {
   "cell_type": "code",
   "execution_count": null,
   "metadata": {},
   "outputs": [],
   "source": [
    "date_i = get_datetime(year=2024, month=1, day=13)\n",
    "date_f = get_datetime(year=2024, month=1, day=20)\n",
    "N_BESTS_USERS = 40\n",
    "\n",
    "# Secondary variables.\n",
    "MAX_WORKERS = 40\n",
    "DAYS_TO_UPDATE_TWEETS = 14\n",
    "DAYS_TO_UPDATE_FOLLOWS_LINK = 120\n",
    "WITH_UPDATE = True      # If it is false, it will do the analysis with what you have downloaded."
   ]
  },
  {
   "cell_type": "markdown",
   "metadata": {},
   "source": [
    "- `date_i:` Initial date where tweets are considered.\n",
    "- `date_f:` Final date where tweets are considered.\n",
    "- `N_BESTS_USERS:` TOP users with the most followers in the graph analysis. <span style=\"color:crimson;\">IMPORTANT!!! Then read the warning.</span>\n",
    "- `MAX_WORKERS:` Number of requests that can be made in parallel, use between `10~40`. The higher the faster, but you can saturate the API server and get blocked.\n",
    "- `DAYS_TO_UPDATE_TWEETS:` Time after collecting a user. It is not expensive, you can choose a low number, `7~14`.\n",
    "- `DAYS_TO_UPDATE_FOLLOWS_LINK:` Time after which followers are updated. Using a high number `>120 or >180`, it is expensive to collect.\n",
    "- `WITH_UPDATE:` Use `False` if you only want to view information `and not collect` it.\n",
    "\n",
    "\n",
    "##### <span style=\"color:crimson;\">WARNING: (N_BESTS_USERS)</span>\n",
    "1. ---> `Remember that you have a quota of 100k requests per month.`\n",
    "2. From the list you send you will always get the latest Tweets from each one, but it will only look for many-to-many followers, among the TOP you determine.\n",
    "3. Then the system makes `N*(N-1)` requests, where `N=N_BESTS_USERS`.\n",
    "4. If the link between `User_A` and `User_B` was already collected, it does `not make the request`.\n",
    "4. If you choose a very high number, you can consume all the monthly requests, I attach a table with the number of requests by value.\n",
    "5. **<span style=\"color:green;\">Note that: I would use a low value, and increase it little by little, collecting information and seeing how the graph changes.</span>**\n",
    "\n",
    "|N_BESTS_USERS|N_REQUESTS|\n",
    "|-------------|----------|\n",
    "|20           |<= 380    |\n",
    "|40           |<= 1560   |\n",
    "|60           |<= 3540   |\n",
    "|80           |<= 6320   |\n",
    "|100          |<= 9900   |\n",
    "|120          |<= 14280  |\n",
    "|140          |<= 19460  |\n",
    "|160          |<= 25440  |\n",
    "|180          |<= 32220  |\n",
    "|200          |<= 39800  |\n",
    "- The `graph will be plotted` with the `TOP` of `N_BESTS_USERS`\n"
   ]
  },
  {
   "cell_type": "markdown",
   "metadata": {},
   "source": [
    "### Collect and obtain the users with the most followers."
   ]
  },
  {
   "cell_type": "code",
   "execution_count": null,
   "metadata": {},
   "outputs": [],
   "source": [
    "users = db_tw.collect_and_get_users(\n",
    "    profiles = profiles,\n",
    "    bots = bots,\n",
    "    date_i = date_i,\n",
    "    date_f = date_f,\n",
    "    n_bests_users = N_BESTS_USERS,\n",
    "    days_to_update_tweets = DAYS_TO_UPDATE_TWEETS,\n",
    "    days_to_update_follow_link = DAYS_TO_UPDATE_FOLLOWS_LINK,\n",
    "    with_update = WITH_UPDATE,\n",
    "    max_workers = MAX_WORKERS\n",
    ")\n",
    "graph_follow = GraphFollows.from_users_db(db_tw, users, date_i, date_f)"
   ]
  },
  {
   "cell_type": "markdown",
   "metadata": {},
   "source": [
    "1. `colors_ranges`\n",
    "- You can add other ranges, and take colors from here: https://htmlcolorcodes.com/\n",
    "\n",
    "2. `MODE_PLOT_GRAPH`\n",
    "- The color of the nodes depends on this variable, just aesthetic.\n",
    "- And it depends what you want to show.\n",
    "    - `'in'` Count the arrows pointing to the node `(followers)`.\n",
    "    - `'out'` Count the arrows coming out of the node `(following)`.\n",
    "    - `'sum'` the sum of the previous 2 `(followers + following)`."
   ]
  },
  {
   "cell_type": "code",
   "execution_count": null,
   "metadata": {},
   "outputs": [],
   "source": [
    "colors_ranges = [\n",
    "    (0, \"#666666\"),\n",
    "    (1, \"#E6BE37\"),\n",
    "    (2, \"#ED851D\"),\n",
    "    (3, \"#FF0000\"),\n",
    "]\n",
    "\n",
    "MODE_PLOT_GRAPH = 'in'      # Can use 'in', 'out' or 'sum'.\n",
    "WITH_SAVE = True\n",
    "\n",
    "cairo_plot = graph_follow.plot(\n",
    "    with_save = WITH_SAVE,\n",
    "    #plot_style = GraphPlotStyle(background=\"#fff\"),\n",
    "    colors_ranges = colors_ranges,\n",
    "    mode = MODE_PLOT_GRAPH\n",
    ")\n",
    "cairo_plot"
   ]
  },
  {
   "cell_type": "markdown",
   "metadata": {},
   "source": [
    "### Keywords\n",
    "- You will be able to see all the keywords inside:\n",
    "    - `data/reports/graph_follows/from_yyyy_mm_dd_to_yyyy_mm_dd/keywords/`\n",
    "    - Within this folder the following will be generated:\n",
    "        1. `keywords/clusters`: Keywords for `each cluster` `(user group)`.\n",
    "        2. `keywords/users`: Keywords for the `N_BEST_USERS` within the list `individually`.\n",
    "        3. `keywords/all_users_list`: Keywords for `all users` within the list `individually`.\n",
    "    - You can change the `time interval`, and `obtain the tweets` that are `saved in the DB`, and `generate the keywords` of those users in that time interval.\n",
    "    - If you run the same script at different intervals, you will get different folders.\n",
    "\n",
    "- `MIN_USERS_PER_CLUSTER`, must be greater than 2. And it will only export the keywords for that minimum number of users."
   ]
  },
  {
   "cell_type": "code",
   "execution_count": null,
   "metadata": {},
   "outputs": [],
   "source": [
    "MIN_USERS_PER_CLUSTER = 2\n",
    "kw_clusters = KWClusters.from_graph_follow(graph_follow, MIN_USERS_PER_CLUSTER)\n",
    "kw_clusters.save_keywords_clusters()\n",
    "graph_follow.save_keywords_users()\n",
    "graph_follow.save_keywords_from_profiles(\n",
    "    db_tw = db_tw,\n",
    "    date_i = date_i,\n",
    "    date_f = date_f,\n",
    "    profiles = profiles\n",
    ")\n",
    "kw_clusters"
   ]
  },
  {
   "cell_type": "markdown",
   "metadata": {},
   "source": [
    "### Topics Users\n",
    "- To collect topics related to users you must run `collect_topics_users.ipynb`.\n",
    "- They will be stored within: `data/reports/graph_follows/from_yyyy_mm_dd_to_yyyy_mm_dd/topics_user_i`."
   ]
  },
  {
   "cell_type": "code",
   "execution_count": null,
   "metadata": {},
   "outputs": [],
   "source": [
    "df_topics_users = users.df_topics_users(graph_follow.path_topics_users)\n",
    "df_topics_users"
   ]
  }
 ],
 "metadata": {
  "kernelspec": {
   "display_name": "env",
   "language": "python",
   "name": "python3"
  },
  "language_info": {
   "codemirror_mode": {
    "name": "ipython",
    "version": 3
   },
   "file_extension": ".py",
   "mimetype": "text/x-python",
   "name": "python",
   "nbconvert_exporter": "python",
   "pygments_lexer": "ipython3",
   "version": "3.11.6"
  }
 },
 "nbformat": 4,
 "nbformat_minor": 2
}
