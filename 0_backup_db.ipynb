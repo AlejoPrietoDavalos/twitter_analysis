{
 "cells": [
  {
   "cell_type": "markdown",
   "metadata": {},
   "source": [
    "# Backup Database\n",
    "### **It is `recommended` to make backups `after downloading`**.\n",
    "- You `can do` this as `many times as you want`, they will be saved inside `\"data/backup_db\"` with a name based on the date in the current second.\n",
    "\n",
    "- *Note_1: The backups do not weigh too much, just a few KB or MB, in the event that you run out of space, simply delete the containing folder.*\n",
    "- *Note_2: Alternatively you can go back to previous moments of the DB using `\"load_db.sh\"`, but it can be dangerous, in which case consult me.*"
   ]
  },
  {
   "cell_type": "code",
   "execution_count": 1,
   "metadata": {},
   "outputs": [
    {
     "name": "stderr",
     "output_type": "stream",
     "text": [
      "2024-01-21T19:22:08.871-0300\twriting scrape_tw.follows to data/backup_db/date_2024_01_21_19_22_08/scrape_tw/follows.bson\n",
      "2024-01-21T19:22:08.872-0300\twriting scrape_tw.cursors to data/backup_db/date_2024_01_21_19_22_08/scrape_tw/cursors.bson\n",
      "2024-01-21T19:22:08.872-0300\twriting scrape_tw.user to data/backup_db/date_2024_01_21_19_22_08/scrape_tw/user.bson\n",
      "2024-01-21T19:22:08.932-0300\tdone dumping scrape_tw.cursors (937 documents)\n",
      "2024-01-21T19:22:08.932-0300\twriting scrape_tw.search to data/backup_db/date_2024_01_21_19_22_08/scrape_tw/search.bson\n",
      "2024-01-21T19:22:08.934-0300\twriting scrape_tw.tweet_user to data/backup_db/date_2024_01_21_19_22_08/scrape_tw/tweet_user.bson\n",
      "2024-01-21T19:22:08.937-0300\tdone dumping scrape_tw.user (937 documents)\n",
      "2024-01-21T19:22:08.938-0300\twriting scrape_tw.topics to data/backup_db/date_2024_01_21_19_22_08/scrape_tw/topics.bson\n",
      "2024-01-21T19:22:08.938-0300\tdone dumping scrape_tw.follows (1560 documents)\n",
      "2024-01-21T19:22:08.938-0300\twriting scrape_tw.user_suspended to data/backup_db/date_2024_01_21_19_22_08/scrape_tw/user_suspended.bson\n",
      "2024-01-21T19:22:08.940-0300\tdone dumping scrape_tw.user_suspended (72 documents)\n",
      "2024-01-21T19:22:08.940-0300\twriting scrape_tw.topics_user to data/backup_db/date_2024_01_21_19_22_08/scrape_tw/topics_user.bson\n",
      "2024-01-21T19:22:08.942-0300\tdone dumping scrape_tw.topics_user (40 documents)\n",
      "2024-01-21T19:22:08.942-0300\twriting scrape_tw.trends to data/backup_db/date_2024_01_21_19_22_08/scrape_tw/trends.bson\n",
      "2024-01-21T19:22:08.943-0300\tdone dumping scrape_tw.trends (12 documents)\n",
      "2024-01-21T19:22:08.944-0300\twriting scrape_tw.raw to data/backup_db/date_2024_01_21_19_22_08/scrape_tw/raw.bson\n",
      "2024-01-21T19:22:08.944-0300\tdone dumping scrape_tw.topics (505 documents)\n",
      "2024-01-21T19:22:08.945-0300\tdone dumping scrape_tw.raw (6 documents)\n",
      "2024-01-21T19:22:08.984-0300\tdone dumping scrape_tw.search (553 documents)\n",
      "2024-01-21T19:22:09.049-0300\tdone dumping scrape_tw.tweet_user (20220 documents)\n"
     ]
    }
   ],
   "source": [
    "from datetime import datetime\n",
    "import os\n",
    "\n",
    "from scraping_kit.utils import format_yyyy_xx\n",
    "\n",
    "def save_db() -> None:\n",
    "    date_now = datetime.now()\n",
    "    date_now = format_yyyy_xx(*date_now.timetuple()[:6])\n",
    "    os.system(f\"mongodump --db scrape_tw --out data/backup_db/date_{date_now}\")\n",
    "\n",
    "save_db()"
   ]
  }
 ],
 "metadata": {
  "kernelspec": {
   "display_name": "env",
   "language": "python",
   "name": "python3"
  },
  "language_info": {
   "codemirror_mode": {
    "name": "ipython",
    "version": 3
   },
   "file_extension": ".py",
   "mimetype": "text/x-python",
   "name": "python",
   "nbconvert_exporter": "python",
   "pygments_lexer": "ipython3",
   "version": "3.11.6"
  }
 },
 "nbformat": 4,
 "nbformat_minor": 2
}
