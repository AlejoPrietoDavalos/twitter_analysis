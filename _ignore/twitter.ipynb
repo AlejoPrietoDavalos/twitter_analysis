{
 "cells": [
  {
   "cell_type": "code",
   "execution_count": 25,
   "metadata": {},
   "outputs": [],
   "source": [
    "from pathlib import Path\n",
    "from pydantic import BaseModel\n",
    "import requests\n",
    "import json\n",
    "\n",
    "from test_uid import get_test_uid\n",
    "\n",
    "def save_json(response_json, path_out: str) -> None:\n",
    "    with open(path_out, \"w\") as f:\n",
    "        json.dump(response_json, f)"
   ]
  },
  {
   "cell_type": "markdown",
   "metadata": {},
   "source": [
    "# twitter241 (10 requests/sec)\n",
    "- https://rapidapi.com/davethebeast/api/twitter241\n",
    "- $25/month - 100k requests\n",
    "- $80/month - 500k requests"
   ]
  },
  {
   "cell_type": "code",
   "execution_count": 11,
   "metadata": {},
   "outputs": [],
   "source": [
    "url = \"https://twitter241.p.rapidapi.com/user-tweets\"\n",
    "\n",
    "querystring = {\n",
    "    \"user\": get_test_uid(),\n",
    "    \"count\": \"1\"\n",
    "}\n",
    "\n",
    "headers = {\n",
    "\t\"X-RapidAPI-Key\": \"\",\n",
    "\t\"X-RapidAPI-Host\": \"twitter241.p.rapidapi.com\"\n",
    "}\n",
    "response = requests.get(url, headers=headers, params=querystring)\n",
    "save_json(response.json(), \"twitter241_tweets.json\")"
   ]
  },
  {
   "cell_type": "markdown",
   "metadata": {},
   "source": [
    "# twitter154 (10 requests/sec)\n",
    "- https://rapidapi.com/omarmhaimdat/api/twitter154\n",
    "- $50/month - 100k requests\n",
    "\n",
    "#### Notes:\n",
    "- Prolix (easy to extract)\n",
    "- Continuation token (test, good feature)\n",
    "- Easy implement"
   ]
  },
  {
   "cell_type": "code",
   "execution_count": 50,
   "metadata": {},
   "outputs": [],
   "source": [
    "url = \"https://twitter154.p.rapidapi.com/user/tweets\"\n",
    "\n",
    "querystring = {\n",
    "    #\"username\": \"asdasd\",\n",
    "    \"limit\": \"1\",\n",
    "    #\"user_id\": get_test_uid(),\n",
    "    \"include_replies\": \"false\",\n",
    "    \"include_pinned\": \"false\"\n",
    "}\n",
    "\n",
    "headers = {\n",
    "\t\"X-RapidAPI-Key\": \"\",\n",
    "\t\"X-RapidAPI-Host\": \"twitter154.p.rapidapi.com\"\n",
    "}\n",
    "\n",
    "response = requests.get(url, headers=headers, params=querystring)\n",
    "save_json(response.json(), \"twitter154_tweets.json\")"
   ]
  },
  {
   "cell_type": "code",
   "execution_count": 48,
   "metadata": {},
   "outputs": [],
   "source": [
    "j = response.json()\n",
    "asd = j[\"results\"][0]"
   ]
  },
  {
   "cell_type": "code",
   "execution_count": 49,
   "metadata": {},
   "outputs": [],
   "source": [
    "from typing import Any\n",
    "\n",
    "class User(BaseModel):\n",
    "    creation_date: Any\n",
    "    user_id: Any\n",
    "    username: Any\n",
    "    name: Any\n",
    "    follower_count: Any\n",
    "    following_count: Any\n",
    "    favourites_count: Any\n",
    "    is_private: Any\n",
    "    is_verified: Any\n",
    "    is_blue_verified: Any\n",
    "    location: Any\n",
    "    profile_pic_url: Any\n",
    "    profile_banner_url: Any\n",
    "    description: Any\n",
    "    external_url: Any\n",
    "    number_of_tweets: Any\n",
    "    bot: Any\n",
    "    timestamp: Any\n",
    "    has_nft_avatar: Any\n",
    "    category: Any\n",
    "    default_profile: Any\n",
    "    default_profile_image: Any\n",
    "    listed_count: Any\n",
    "    verified_type: Any\n",
    "\n",
    "class Result(BaseModel):\n",
    "    tweet_id: str\n",
    "    creation_date: str\n",
    "    text: str\n",
    "    media_url: str | None\n",
    "    video_url: str | None\n",
    "    user: User\n",
    "    language: Any\n",
    "    favorite_count: Any\n",
    "    retweet_count: Any\n",
    "    reply_count: Any\n",
    "    quote_count: Any\n",
    "    retweet: Any\n",
    "    views: Any\n",
    "    timestamp: Any\n",
    "    video_view_count: Any\n",
    "    in_reply_to_status_id: Any\n",
    "    quoted_status_id: Any\n",
    "    binding_values: Any\n",
    "    expanded_url: Any\n",
    "    retweet_tweet_id: Any\n",
    "    extended_entities: Any\n",
    "    conversation_id: Any\n",
    "    retweet_status: Any\n",
    "    quoted_status: Any\n",
    "    bookmark_count: Any\n",
    "    source: Any\n",
    "\n",
    "r = Result(**asd)"
   ]
  },
  {
   "cell_type": "markdown",
   "metadata": {},
   "source": [
    "# twitter135 (5 requests/sec)\n",
    "- https://rapidapi.com/Glavier/api/twitter135\n",
    "- $20/month - 10k requests\n",
    "- $50/month - 100k requests"
   ]
  },
  {
   "cell_type": "code",
   "execution_count": null,
   "metadata": {},
   "outputs": [],
   "source": []
  },
  {
   "cell_type": "markdown",
   "metadata": {},
   "source": [
    "# twitter-api45 (X requests/sec unlimited?)\n",
    "- https://rapidapi.com/alexanderxbx/api/twitter-api45/pricing\n",
    "- $5/month - 100k requests\n",
    "- $50/month - 1.5M requests\n",
    "- Followers, interesant"
   ]
  },
  {
   "cell_type": "code",
   "execution_count": null,
   "metadata": {},
   "outputs": [],
   "source": []
  },
  {
   "cell_type": "markdown",
   "metadata": {},
   "source": []
  },
  {
   "cell_type": "code",
   "execution_count": null,
   "metadata": {},
   "outputs": [],
   "source": []
  }
 ],
 "metadata": {
  "kernelspec": {
   "display_name": "env",
   "language": "python",
   "name": "python3"
  },
  "language_info": {
   "codemirror_mode": {
    "name": "ipython",
    "version": 3
   },
   "file_extension": ".py",
   "mimetype": "text/x-python",
   "name": "python",
   "nbconvert_exporter": "python",
   "pygments_lexer": "ipython3",
   "version": "3.11.6"
  }
 },
 "nbformat": 4,
 "nbformat_minor": 2
}
