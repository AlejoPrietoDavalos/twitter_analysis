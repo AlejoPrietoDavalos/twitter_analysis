{
 "cells": [
  {
   "cell_type": "markdown",
   "metadata": {},
   "source": [
    "# Trends Accumulated in time range\n",
    "- This Notebook `obtains and saves` within `\"reports/trends_accumulated\"` the `Trends accumulated` in a given `date range`.\n",
    "\n",
    "##### What exactly does the script do?\n",
    "- Receives a `DATE_FROM` and `DATE_TO` range.\n",
    "- Obtains all the `Trends` within the `DB` in that `time range`.\n",
    "- Unifies into the same DataFrame, adding the `\"volume\"` column for equal Trends.\n",
    "- Concatenates the unique values non-empty within `\"domainContext\"`.\n",
    "- Save the result in a `.CSV` inside `\"reports/trends_accumulated\"`.\n",
    "\n",
    "---\n",
    "\n",
    "##### You can modify these parameters.\n",
    "- `WITH_SAVE:` If `True`, saves it to `\"reports/trends_accumulated\"`, `False` does not save it.\n",
    "- `DATE_FROM:` Initial date of the analysis (inclusive).\n",
    "- `DATE_TO:` End date of the analysis (inclusive).\n",
    "\n",
    "---\n",
    "\n",
    "- *Note_1: If there are no Trends on any of the dates in the interval, you will be notified with a text here.*\n",
    "- *Note_2: If there is at least 1 day with Trends in the interval, it will do the accumulation.*\n",
    "- *Note_3: If Trends in days are missing at the beginning or end, it will limit the interval where there are no gaps at the edges.*"
   ]
  },
  {
   "cell_type": "code",
   "execution_count": null,
   "metadata": {},
   "outputs": [],
   "source": [
    "from datetime import datetime\n",
    "\n",
    "from scraping_kit import load_db_and_bots\n",
    "\n",
    "db_tw, bots = load_db_and_bots()\n",
    "\n",
    "WITH_SAVE = True\n",
    "DATE_FROM = datetime(year=2023, month=12, day=28)\n",
    "DATE_TO = datetime(year=2024, month=1, day=21)\n",
    "df_accumulated = db_tw.get_trends_df_accumulated(date_from=DATE_FROM, date_to=DATE_TO, with_save=WITH_SAVE)\n",
    "df_accumulated[:50]"
   ]
  },
  {
   "cell_type": "code",
   "execution_count": null,
   "metadata": {},
   "outputs": [],
   "source": []
  },
  {
   "cell_type": "code",
   "execution_count": null,
   "metadata": {},
   "outputs": [],
   "source": []
  },
  {
   "cell_type": "code",
   "execution_count": null,
   "metadata": {},
   "outputs": [],
   "source": []
  },
  {
   "cell_type": "code",
   "execution_count": null,
   "metadata": {},
   "outputs": [],
   "source": []
  },
  {
   "cell_type": "code",
   "execution_count": null,
   "metadata": {},
   "outputs": [],
   "source": [
    "from typing import List, Literal\n",
    "from scraping_kit.db.db_twitter import DBTwitter\n",
    "from scraping_kit.db.models.topics import Topic, TopicClasses\n",
    "def texts_from_trend(trend_name: str) -> List[str]:\n",
    "    return [t[\"text\"] for t in db_tw.coll.search.find_one({\"query\": trend_name})[\"timeline\"]]\n",
    "def topic_from_trend(trend_name: str) -> Topic:\n",
    "    return Topic(**db_tw.coll.topics.find_one({\"query\": trend_name}))\n",
    "\n",
    "def choice_i(old_val: Literal[1,2,3,4] = None) -> int:\n",
    "    if old_val == 1 or old_val == 3:\n",
    "        return 0\n",
    "    elif old_val == 2 or old_val == 4:\n",
    "        return 1\n",
    "    else:\n",
    "        raise Exception(\"aksdna\")"
   ]
  },
  {
   "cell_type": "code",
   "execution_count": null,
   "metadata": {},
   "outputs": [],
   "source": [
    "def print_topic(topic: Topic) -> None:\n",
    "    print(\"~\"*10)\n",
    "    display(f\"topics_1: {topic.topics_1.labels[:2]}\")\n",
    "    display(f\"topicS_2: {topic.topics_2.labels[:2]}\")\n",
    "    print(\"~\"*10)\n",
    "\n",
    "def change_ij_topic(i: int, j: int, topic_classes: TopicClasses) -> None:\n",
    "    topic_classes.labels[i], topic_classes.labels[j] = topic_classes.labels[j], topic_classes.labels[i]\n",
    "\n",
    "def update_topic(topic: Topic, new_val: str = None, old_val: Literal[1,2,3,4] = None, silence=True) -> None:\n",
    "    display(topic.query)\n",
    "    print_topic(topic)\n",
    "    if new_val is not None and old_val in range(1, 5):\n",
    "        i = choice_i(old_val)\n",
    "        if old_val in [1,2]:\n",
    "            j = topic.topics_1.labels.index(new_val)\n",
    "            change_ij_topic(i, j, topic.topics_1)\n",
    "        elif old_val in [3,4]:\n",
    "            j = topic.topics_2.labels.index(new_val)\n",
    "            change_ij_topic(i, j, topic.topics_2)\n",
    "        if i == j:\n",
    "            print(\"--- Son iguales ---\")\n",
    "            return\n",
    "        print_topic(topic)\n",
    "        if not silence:\n",
    "            confirm = input(\"confirm\")\n",
    "            if confirm in [\"y\", \"yes\", \"si\"]:\n",
    "                db_tw.coll.topics.update_one({\"query\": topic.query}, {\"$set\": topic.model_dump()})\n",
    "\n",
    "\n",
    "WITH_SAVE = False\n",
    "DATE_FROM = datetime(year=2023, month=12, day=28)\n",
    "DATE_TO = datetime(year=2024, month=1, day=21)\n",
    "df_accumulated = db_tw.get_trends_df_accumulated(date_from=DATE_FROM, date_to=DATE_TO, with_save=WITH_SAVE)\n",
    "\n",
    "idx_topic = 9\n",
    "trend_name = df_accumulated.loc[idx_topic, \"name\"]\n",
    "update_topic(\n",
    "    topic = topic_from_trend(trend_name),\n",
    "    new_val = \"World news\",\n",
    "    old_val = 4,\n",
    "    silence = False\n",
    ")\n",
    "df_accumulated[idx_topic:idx_topic+5][[\"volume\", \"name\", \"topics_1_a\", \"topics_1_b\", \"topics_2_a\", \"topics_2_b\"]]"
   ]
  },
  {
   "cell_type": "code",
   "execution_count": null,
   "metadata": {},
   "outputs": [],
   "source": [
    "from typing import List\n",
    "from scraping_kit.db.db_twitter import DBTwitter\n",
    "def texts_from_trend(trend_name: str) -> List[str]:\n",
    "    return [t[\"text\"] for t in db_tw.coll.search.find_one({\"query\": trend_name})[\"timeline\"]]\n",
    "texts_from_trend(trend_name)"
   ]
  },
  {
   "cell_type": "code",
   "execution_count": null,
   "metadata": {},
   "outputs": [],
   "source": []
  },
  {
   "cell_type": "code",
   "execution_count": null,
   "metadata": {},
   "outputs": [],
   "source": []
  },
  {
   "cell_type": "code",
   "execution_count": null,
   "metadata": {},
   "outputs": [],
   "source": [
    "fake_doc = db_tw.coll.topics.find_one({\"query\": \"Constitution\"})\n",
    "fake_doc.pop(\"_id\")\n",
    "fake_doc[\"query\"] = \"E. Jean Carroll\"\n",
    "topic = Topic(**fake_doc)\n",
    "db_tw.coll.topics.insert_one(topic.model_dump())"
   ]
  },
  {
   "cell_type": "code",
   "execution_count": null,
   "metadata": {},
   "outputs": [],
   "source": [
    "#db_tw.coll.search.insert_one({\"query\": \"E. Jean Carroll\"})#.delete_one({\"query\": \"E. Jean Carroll\"})\n"
   ]
  },
  {
   "cell_type": "code",
   "execution_count": null,
   "metadata": {},
   "outputs": [],
   "source": [
    "db_tw.coll.topics.find_one({\"query\": \"E. Jean Carroll\"})"
   ]
  },
  {
   "cell_type": "code",
   "execution_count": null,
   "metadata": {},
   "outputs": [],
   "source": []
  },
  {
   "cell_type": "code",
   "execution_count": null,
   "metadata": {},
   "outputs": [],
   "source": []
  },
  {
   "cell_type": "code",
   "execution_count": null,
   "metadata": {},
   "outputs": [],
   "source": [
    "\n",
    "texts_from_trend(db_tw, \"Feliz 2024\")"
   ]
  },
  {
   "cell_type": "code",
   "execution_count": null,
   "metadata": {},
   "outputs": [],
   "source": [
    "db_tw.coll.topics.find_one({\"query\": \"Feliz 2024\"})[\"topics_2\"]"
   ]
  },
  {
   "cell_type": "code",
   "execution_count": null,
   "metadata": {},
   "outputs": [],
   "source": [
    "l = [0, 1, 2, 3, 4, 5, 6, 7, 8, 9]\n",
    "i, j = 2, 6\n",
    "l[i], l[j] = l[j], l[i]\n",
    "l"
   ]
  }
 ],
 "metadata": {
  "kernelspec": {
   "display_name": "env",
   "language": "python",
   "name": "python3"
  },
  "language_info": {
   "codemirror_mode": {
    "name": "ipython",
    "version": 3
   },
   "file_extension": ".py",
   "mimetype": "text/x-python",
   "name": "python",
   "nbconvert_exporter": "python",
   "pygments_lexer": "ipython3",
   "version": "3.11.6"
  }
 },
 "nbformat": 4,
 "nbformat_minor": 2
}
