{
 "cells": [
  {
   "cell_type": "code",
   "execution_count": null,
   "metadata": {},
   "outputs": [],
   "source": [
    "import http.client\n",
    "import json\n",
    "import array\n",
    "import time\n",
    "from types import SimpleNamespace\n",
    "\n",
    "conn = http.client.HTTPSConnection(\"twitter-api45.p.rapidapi.com\")\n",
    "\n",
    "headers = {\n",
    "     'X-RapidAPI-Key': \"<YOUR_RAPIDAPI_KEY>\",\n",
    "     'X-RapidAPI-Host': \"twitter-api45.p.rapidapi.com\"\n",
    "}\n",
    "cursor=\"\"\n",
    "followingArray = []\n",
    "basic_url=\"/following.php?screenname=elonmusk\"\n",
    "conn.request(\"GET\", basic_url, headers=headers)\n",
    "res = conn.getresponse()\n",
    "data = res.read()\n",
    "#print(data.decode(\"utf-8\"))\n",
    "storedata = json.loads(data.decode(\"utf-8\"))\n",
    "#storedata.array = change_ndarray(storedata.array)\n",
    "#print(storedata['following'])\n",
    "\n",
    "for val in storedata['following']:\n",
    "\tfollowingArray.append(val)\n",
    "\n",
    "cursor=storedata['next_cursor']\n",
    "while 'next_cursor' in storedata  and len(storedata['following'])>0: \n",
    "\ttime.sleep(1)\n",
    "\tcursor=storedata['next_cursor']\n",
    "\t#print(storedata['next_cursor'])\n",
    "\turl = \"%s%s%s\" % (basic_url, \"&cursor=\", cursor)\n",
    "\t#print(url)\n",
    "\tconn.request(\"GET\", url, headers=headers)\n",
    "\tres = conn.getresponse()\n",
    "\tdata = res.read()\n",
    "\t#print(data)\n",
    "\tstoredata = json.loads(data.decode(\"utf-8\"))\n",
    "\tfor val in storedata['following']:\n",
    "\t\tfollowingArray.append(val)\n",
    "\n",
    "#print(storedata['next_cursor'])\n",
    "\n",
    "print(followingArray)\n",
    "print(len(followingArray))"
   ]
  }
 ],
 "metadata": {
  "language_info": {
   "name": "python"
  }
 },
 "nbformat": 4,
 "nbformat_minor": 2
}
