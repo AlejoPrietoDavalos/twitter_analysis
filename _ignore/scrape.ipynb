{
 "cells": [
  {
   "cell_type": "code",
   "execution_count": null,
   "metadata": {},
   "outputs": [],
   "source": [
    "import json\n",
    "from pathlib import Path\n",
    "\n",
    "from twitter154.db.db_twitter import DBTwitter\n",
    "from twitter154.models.tweet import Tweet, Tweets, TweetsContinuation"
   ]
  },
  {
   "cell_type": "code",
   "execution_count": null,
   "metadata": {},
   "outputs": [],
   "source": [
    "path_data = Path(\"data\")\n",
    "db_tw = DBTwitter(path_data=path_data, db_name=\"scrape_tw\")"
   ]
  },
  {
   "cell_type": "code",
   "execution_count": null,
   "metadata": {},
   "outputs": [],
   "source": [
    "with open(\"_ignore/twitter154_tweets.json\", \"r\") as f:\n",
    "    tweets = Tweets(**json.load(f))\n",
    "\n",
    "tweets_continuation = TweetsContinuation(\n",
    "    user_id = tweets[0].user_id,\n",
    "    username = tweets[0].username,\n",
    "    continuation_token = tweets.continuation_token\n",
    ")"
   ]
  },
  {
   "cell_type": "code",
   "execution_count": null,
   "metadata": {},
   "outputs": [],
   "source": [
    "db_tw.db.drop_collection(\"tweet\")"
   ]
  },
  {
   "cell_type": "code",
   "execution_count": null,
   "metadata": {},
   "outputs": [],
   "source": [
    "if len(tweets) == 0:\n",
    "    raise Exception(\"Ver que hacer en este caso\")\n",
    "else:\n",
    "    sarasa = db_tw.coll.tweet.insert_many(list(tweet.model_dump() for tweet in tweets.results))"
   ]
  },
  {
   "cell_type": "code",
   "execution_count": null,
   "metadata": {},
   "outputs": [],
   "source": [
    "sarasa"
   ]
  },
  {
   "cell_type": "code",
   "execution_count": null,
   "metadata": {},
   "outputs": [],
   "source": [
    "from datetime import datetime, timezone\n",
    "from typing import Dict\n",
    "\n",
    "def date_delta(date_i: datetime, date_f: datetime) -> Dict[str, datetime]:\n",
    "    return {\"$gte\": date_i, \"$lt\": date_f}\n",
    "\n",
    "d_date = date_delta(\n",
    "    datetime(2023, 12, 7, tzinfo=timezone.utc),\n",
    "    datetime(2023, 12, 8, tzinfo=timezone.utc)\n",
    ")\n",
    "\n",
    "for tweet in db_tw.coll.tweet.find({}):#\"creation_date\": d_date}):\n",
    "    tweet = Tweet(**tweet)\n",
    "    if tweet.retweet_tweet_id is not None:\n",
    "        display(tweet)"
   ]
  }
 ],
 "metadata": {
  "kernelspec": {
   "display_name": "env",
   "language": "python",
   "name": "python3"
  },
  "language_info": {
   "codemirror_mode": {
    "name": "ipython",
    "version": 3
   },
   "file_extension": ".py",
   "mimetype": "text/x-python",
   "name": "python",
   "nbconvert_exporter": "python",
   "pygments_lexer": "ipython3",
   "version": "3.11.6"
  }
 },
 "nbformat": 4,
 "nbformat_minor": 2
}
