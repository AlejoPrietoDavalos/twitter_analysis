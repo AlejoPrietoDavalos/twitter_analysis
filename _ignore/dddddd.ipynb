{
 "cells": [
  {
   "cell_type": "code",
   "execution_count": null,
   "metadata": {},
   "outputs": [],
   "source": [
    "import requests\n",
    "\n",
    "url = \"https://twitter-aio.p.rapidapi.com/trends/1\"\n",
    "\n",
    "headers = {\n",
    "\t\"X-RapidAPI-Key\": \"\",\n",
    "\t\"X-RapidAPI-Host\": \"twitter-aio.p.rapidapi.com\"\n",
    "}\n",
    "\n",
    "params = {\"locationId\": 23424977}\n",
    "response = requests.get(url, headers=headers, params=params)"
   ]
  },
  {
   "cell_type": "code",
   "execution_count": null,
   "metadata": {},
   "outputs": [],
   "source": [
    "import pandas as pd\n",
    "df = pd.DataFrame(response.json()[\"trends\"])\n",
    "df = df.drop([\"query\", \"promoted_content\"], axis=1)\n",
    "df = df.dropna()\n",
    "#df[\"name\"] = df[\"name\"].apply(lambda t: t.strip())\n",
    "#df = df.query(\"name != ''\")\n",
    "df"
   ]
  },
  {
   "cell_type": "code",
   "execution_count": null,
   "metadata": {},
   "outputs": [],
   "source": [
    "import requests\n",
    "\n",
    "url = \"https://twitter154.p.rapidapi.com/search/geo\"\n",
    "\n",
    "querystring = {\"query\":\"paris\",\"limit\":\"50\",\"language\":\"en\",\"latitude\":\"48.858093\",\"longitude\":\"2.294694\",\"range\":\"2\",\"section\":\"top\"}\n",
    "\n",
    "headers = {\n",
    "\t\"X-RapidAPI-Key\": \"\",\n",
    "\t\"X-RapidAPI-Host\": \"twitter154.p.rapidapi.com\"\n",
    "}\n",
    "\n",
    "response = requests.get(url, headers=headers, params=querystring)\n",
    "response"
   ]
  },
  {
   "cell_type": "code",
   "execution_count": null,
   "metadata": {},
   "outputs": [],
   "source": [
    "r = response.json()\n",
    "r[\"results\"][0]\n"
   ]
  },
  {
   "cell_type": "code",
   "execution_count": null,
   "metadata": {},
   "outputs": [],
   "source": [
    "import requests\n",
    "\n",
    "url = \"https://twitter154.p.rapidapi.com/trends/available\"\n",
    "\n",
    "headers = {\n",
    "\t\"X-RapidAPI-Key\": \"\",\n",
    "\t\"X-RapidAPI-Host\": \"twitter154.p.rapidapi.com\"\n",
    "}\n",
    "\n",
    "response = requests.get(url, headers=headers)\n",
    "woeid_available = response.json()"
   ]
  },
  {
   "cell_type": "code",
   "execution_count": null,
   "metadata": {},
   "outputs": [],
   "source": [
    "names = []\n",
    "for v in woeid_available:\n",
    "    names.append(v[\"name\"])"
   ]
  },
  {
   "cell_type": "code",
   "execution_count": null,
   "metadata": {},
   "outputs": [],
   "source": [
    "for v in woeid_available:\n",
    "    if v[\"name\"] == \"United States\":\n",
    "        display(v)"
   ]
  },
  {
   "cell_type": "code",
   "execution_count": null,
   "metadata": {},
   "outputs": [],
   "source": [
    "import requests\n",
    "\n",
    "url = \"https://twitter154.p.rapidapi.com/trends/\"\n",
    "\n",
    "querystring = {\"woeid\":\"23424977\", \"as_of\": '2023-12-10T19:40:55Z'}\n",
    "\n",
    "headers = {\n",
    "\t\"X-RapidAPI-Key\": \"\",\n",
    "\t\"X-RapidAPI-Host\": \"twitter154.p.rapidapi.com\"\n",
    "}\n",
    "\n",
    "response_eeuu = requests.get(url, headers=headers, params=querystring)\n"
   ]
  },
  {
   "cell_type": "code",
   "execution_count": null,
   "metadata": {},
   "outputs": [],
   "source": [
    "response_eeuu.json()"
   ]
  },
  {
   "cell_type": "code",
   "execution_count": null,
   "metadata": {},
   "outputs": [],
   "source": [
    "df = pd.DataFrame(response_eeuu.json()[0][\"trends\"])\n",
    "df = df.drop([\"promoted_content\", \"query\"], axis=1)\n",
    "df = df.sort_values(\"tweet_volume\", ascending=False)\n",
    "df = df.reset_index(drop=True)\n",
    "df = df.dropna()\n",
    "df"
   ]
  },
  {
   "cell_type": "code",
   "execution_count": null,
   "metadata": {},
   "outputs": [],
   "source": [
    "#.dropna()\n",
    "pd.DataFrame(response_eeuu.json()[0][\"trends\"]).drop([\"promoted_content\", \"query\"], axis=1).sort_values(\"tweet_volume\", ascending=False).reset_index(drop=True)"
   ]
  },
  {
   "cell_type": "code",
   "execution_count": null,
   "metadata": {},
   "outputs": [],
   "source": [
    "eeuu = response_eeuu.json()[0]\n",
    "for i, t_list in enumerate(eeuu[\"trends\"]):\n",
    "    #print(t_list[\"name\"])\n",
    "    display(t_list)\n",
    "    if i==5:\n",
    "        break"
   ]
  }
 ],
 "metadata": {
  "kernelspec": {
   "display_name": "env",
   "language": "python",
   "name": "python3"
  },
  "language_info": {
   "codemirror_mode": {
    "name": "ipython",
    "version": 3
   },
   "file_extension": ".py",
   "mimetype": "text/x-python",
   "name": "python",
   "nbconvert_exporter": "python",
   "pygments_lexer": "ipython3",
   "version": "3.11.6"
  }
 },
 "nbformat": 4,
 "nbformat_minor": 2
}
