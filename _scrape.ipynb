{
 "cells": [
  {
   "cell_type": "markdown",
   "metadata": {},
   "source": [
    "- https://rapidapi.com/alexanderxbx/api/twitter-api45"
   ]
  },
  {
   "cell_type": "code",
   "execution_count": 1,
   "metadata": {},
   "outputs": [],
   "source": [
    "from typing import Tuple, Literal, Optional, Any\n",
    "from pathlib import Path\n",
    "\n",
    "import pandas as pd\n",
    "from pydantic import BaseModel\n",
    "\n",
    "from twitter45.params import (\n",
    "    UserTimeline, ParamsUserTimeline,\n",
    ")\n",
    "from scraping_kit.db.db_twitter import DBTwitter\n",
    "from scraping_kit.responser import Responser\n",
    "from twitter45.headers import get_headers\n",
    "\n",
    "path_data = Path(\"data\")\n",
    "responser = Responser(headers=get_headers())\n",
    "db_tw = DBTwitter(path_data, \"scrape_tw\")"
   ]
  },
  {
   "cell_type": "code",
   "execution_count": 2,
   "metadata": {},
   "outputs": [],
   "source": [
    "df_acc = pd.read_excel(\"data/twitter_accounts.xlsx\")\n",
    "df_acc = df_acc.sort_values(\"followersCount\", ascending=False).reset_index(drop=True)\n",
    "df_acc[\"exists\"] = \"\""
   ]
  },
  {
   "cell_type": "code",
   "execution_count": 3,
   "metadata": {},
   "outputs": [],
   "source": [
    "class ReqArgsHandler:\n",
    "    ENDPOINT_NAME = \"endpoint_name\"\n",
    "    _handler = {cls.endpoint_name(): cls for cls in [UserTimeline]}\n",
    "\n",
    "    @staticmethod\n",
    "    def load_req_args(req_args_json: dict):\n",
    "        endpoint_name = req_args_json.pop(ReqArgsHandler.ENDPOINT_NAME)\n",
    "        return ReqArgsHandler._handler[endpoint_name](**req_args_json)"
   ]
  },
  {
   "cell_type": "code",
   "execution_count": 4,
   "metadata": {},
   "outputs": [],
   "source": [
    "RESPONSE_JSON = \"response_json\"\n",
    "REQ_ARGS = \"req_args\"\n",
    "\n",
    "def raw_data_to_json(raw_data: dict):\n",
    "    req_args = ReqArgsHandler.load_req_args(raw_data.pop(REQ_ARGS))\n",
    "    response_json = raw_data.pop(RESPONSE_JSON)\n",
    "    return req_args, response_json"
   ]
  },
  {
   "cell_type": "code",
   "execution_count": 5,
   "metadata": {},
   "outputs": [],
   "source": [
    "class UserSuspended(BaseModel):\n",
    "    status: Literal[\"suspended\"]\n",
    "    profile: str\n",
    "\n",
    "class User(BaseModel):\n",
    "    status: Literal[\"active\"]\n",
    "    profile: str\n",
    "    rest_id: str\n",
    "    blue_verified: bool\n",
    "    avatar: str\n",
    "    header_image: str\n",
    "    desc: str\n",
    "    name: str\n",
    "    protected: Optional[bool]\n",
    "    location: str\n",
    "    friends: int\n",
    "    sub_count: int\n",
    "    id: str\n"
   ]
  },
  {
   "cell_type": "code",
   "execution_count": 9,
   "metadata": {},
   "outputs": [],
   "source": [
    "texts = [t[\"text\"] for t in db_tw.coll.raw.find_one({})[\"response_json\"][\"timeline\"]]\n"
   ]
  },
  {
   "cell_type": "code",
   "execution_count": 13,
   "metadata": {},
   "outputs": [
    {
     "data": {
      "text/plain": [
       "[\"Imagine trying for decades to cut Social Security, Medicare, and Medicaid instead of working with us to lower the costs of insulin and prescription drugs. \\n  \\nThat's Congressional Republicans.\",\n",
       " 'After the Philly Fairmount fire, I told city officials I would do everything I could to bring Ladder 1 back into service.\\n\\nAs of this week, the neighborhood once again has a ladder company on call 24 hours a day, 365 days a year to keep them safe.\\n\\nI kept my promise. https://t.co/WTY5pLvDZR',\n",
       " \"Instead of fighting to lower costs for families, Republicans in Congress are fighting to increase profits for Big Pharma.\\n \\nThey’re fighting to lower taxes for the wealthy and corporations.\\n \\nAnd they're fighting to cut Medicare and Social Security.\\n \\nThat’s just wrong.\",\n",
       " 'I’m a capitalist. \\n \\nI have no problem with companies making reasonable profits. \\n \\nBut not on the backs of seniors and working families.',\n",
       " 'While Congressional Republicans fight for the wealthy and big corporations, leaving hardworking families to pay the price, I’ll keep fighting to bring down costs and grow our economy with a strong middle class.',\n",
       " 'We need to continue our progress on the economy and make sure inflation keeps going down and job growth keeps going up. \\n\\nThat means avoiding self-inflicted economic crises like the government shutdown Republicans in Congress are driving us toward.',\n",
       " \"I don’t look at the economy through the eyes of Wall Street or Park Avenue. I look at it through the eyes of the people I grew up with in Scranton, PA, and Claymont, DE.\\n \\nHere's how we've been lowering costs so hardworking Americans get the breathing room they deserve:\",\n",
       " 'I signed an Executive Order and my Admin took action so now you’ll see hearing aids on store shelves – saving folks as much as $3,000 per pair.\\n \\nThat’s life changing for Americans like Don, and for the 30 million who stand to benefit from making hearing aids more affordable.',\n",
       " \"I’m fighting every day and calling on corporations to pass on savings to consumers. \\n \\nThese actions we took this year are part of my larger economic vision for the country.\\n \\nIt's about growing the economy from the middle out and bottom up – not the top down.\",\n",
       " 'After wasting weeks trying to find a new Speaker of the House and expelling their own members, House Republicans have left for the holiday without funding the government.\\n \\nThe American people deserve better.',\n",
       " 'Ukraine’s freedom is on the line.\\n\\nAnd if we do not stop Putin, it will endanger the freedom of everyone almost everywhere.',\n",
       " 'The entire world is watching what we will do.\\n\\nLet’s show them who we are and what we stand for.\\n\\nAmerica stands for freedom today, tomorrow, always.\\nAmerican stands against tyranny and oppression.\\nAmerica stands with the people of Ukraine.',\n",
       " 'Yes, the Affordable Care Act is still providing coverage to millions of Americans.\\n \\nAnd yes, it’s still a BFD.\\n \\nSign up at https://t.co/v3QBMxaPaR before January 16. https://t.co/Zj0xByePmb',\n",
       " 'Big Pharma has been used to getting its way for too long – suppressing competition to keep prices high.\\n \\nIt says it needs that extra revenue to develop cutting-edge drugs.\\n \\nBut studies show Big Pharma lately spent more on stock buybacks and executive pay than on research. https://t.co/yevCc1MLFg',\n",
       " 'You shouldn’t pay the highest prices in the world for drugs that your tax dollars helped create.\\n\\nFrom now on, the part of the federal government that responds to public health emergencies will make “fair pricing” a standard part of its contract negotiations with drugmakers.',\n",
       " 'Trickle-down economics has let Big Pharma rake in big profits for too long while millions struggled to afford the medicines they need.\\n\\nNot anymore.\\n\\nWe finally beat Big Pharma when I signed the Inflation Reduction Act to get American seniors and taxpayers a better deal.']"
      ]
     },
     "execution_count": 13,
     "metadata": {},
     "output_type": "execute_result"
    }
   ],
   "source": [
    "texts"
   ]
  },
  {
   "cell_type": "code",
   "execution_count": 11,
   "metadata": {},
   "outputs": [
    {
     "name": "stdout",
     "output_type": "stream",
     "text": [
      "Topic #0:\n",
      "eyes look pay people costs americans government world hardworking prices\n",
      "Topic #1:\n",
      "aids hearing americans making affordable took stand ll signed executive\n",
      "Topic #2:\n",
      "economy stands republicans corporations going keeps economic middle america fighting\n",
      "Topic #3:\n",
      "freedom ladder house trying american year day bring working better\n",
      "Topic #4:\n",
      "big pharma fighting https lower profits costs long act millions\n"
     ]
    }
   ],
   "source": [
    "from sklearn.feature_extraction.text import CountVectorizer\n",
    "from sklearn.decomposition import LatentDirichletAllocation\n",
    "import pandas as pd\n",
    "\n",
    "# Preprocesamiento y Vectorización\n",
    "vectorizer = CountVectorizer(stop_words='english')\n",
    "X = vectorizer.fit_transform(texts)\n",
    "\n",
    "# Modelado de temas con LDA\n",
    "lda = LatentDirichletAllocation(n_components=5, random_state=0)\n",
    "topics = lda.fit_transform(X)\n",
    "\n",
    "# Mostrar los temas\n",
    "feature_names = vectorizer.get_feature_names_out()\n",
    "for topic_idx, topic in enumerate(lda.components_):\n",
    "    print(f\"Topic #{topic_idx}:\")\n",
    "    print(\" \".join([feature_names[i] for i in topic.argsort()[:-10 - 1:-1]]))\n"
   ]
  },
  {
   "cell_type": "code",
   "execution_count": null,
   "metadata": {},
   "outputs": [],
   "source": [
    "for raw_data in db_tw.coll.raw.find({}):\n",
    "    req_args, response_json = raw_data_to_json(raw_data)\n",
    "    user = response_json.pop(\"user\")\n",
    "\n",
    "    if user[\"status\"] == \"suspended\":\n",
    "        user = UserSuspended(status=\"suspended\", profile=req_args.params.screenname)\n",
    "    else:\n",
    "        timeline = response_json.pop(\"timeline\")\n",
    "        next_cursor = response_json.pop(\"next_cursor\")\n",
    "        user = User(**user)\n",
    "    display(timeline[-1])\n",
    "    break"
   ]
  },
  {
   "cell_type": "code",
   "execution_count": null,
   "metadata": {},
   "outputs": [],
   "source": [
    "db_tw.coll.user.inser"
   ]
  },
  {
   "cell_type": "code",
   "execution_count": 48,
   "metadata": {},
   "outputs": [
    {
     "data": {
      "text/plain": [
       "{'is_follow': False, 'username': 'MrBeast'}"
      ]
     },
     "execution_count": 48,
     "metadata": {},
     "output_type": "execute_result"
    }
   ],
   "source": [
    "import requests\n",
    "\n",
    "url = \"https://twitter-api45.p.rapidapi.com/checkfollow.php\"\n",
    "\n",
    "#querystring = {\"user\":\"elonmusk\",\"follows\":[\"jordanbpeterson\"]}\n",
    "#querystring = {\"user\":\"DavalosAlejo\",\"follows\":\"MrBeast\"}\n",
    "querystring = {\"user\":\"MrBeast\",\"follows\":\"DavalosAlejo\"}\n",
    "\n",
    "headers = {\n",
    "\t\"X-RapidAPI-Key\": \"929a28e077msh76a649de6e684b6p1b5654jsnb2563a519484\",\n",
    "\t\"X-RapidAPI-Host\": \"twitter-api45.p.rapidapi.com\"\n",
    "}\n",
    "\n",
    "response_2 = requests.get(url, headers=headers, params=querystring)\n",
    "response_2.json()"
   ]
  },
  {
   "cell_type": "code",
   "execution_count": 10,
   "metadata": {},
   "outputs": [],
   "source": [
    "import requests\n",
    "\n",
    "url = \"https://twitter-api45.p.rapidapi.com/followers.php\"\n",
    "\n",
    "querystring = {\"screenname\": \"elonmusk\"}\n",
    "\n",
    "headers = {\n",
    "\t\"X-RapidAPI-Key\": \"929a28e077msh76a649de6e684b6p1b5654jsnb2563a519484\",\n",
    "\t\"X-RapidAPI-Host\": \"twitter-api45.p.rapidapi.com\"\n",
    "}\n",
    "\n",
    "response = requests.get(url, headers=headers, params=querystring)"
   ]
  },
  {
   "cell_type": "code",
   "execution_count": 49,
   "metadata": {},
   "outputs": [
    {
     "data": {
      "text/plain": [
       "{'followers_count': 166508065,\n",
       " 'followers': [{'user_id': '95092020',\n",
       "   'screen_name': 'jordanbpeterson',\n",
       "   'description': 'Best-Selling Author | Clinical Psychologist | #1 Education Podcast | Listen to the podcast here:',\n",
       "   'profile_image': 'https://pbs.twimg.com/profile_images/1407056014776614923/TKBC60e1_normal.jpg',\n",
       "   'statuses_count': 46281,\n",
       "   'followers_count': 4926744,\n",
       "   'friends_count': 1467,\n",
       "   'media_count': 6892,\n",
       "   'name': 'Dr Jordan B Peterson'},\n",
       "  {'user_id': '39344374',\n",
       "   'screen_name': 'DonaldJTrumpJr',\n",
       "   'description': '',\n",
       "   'profile_image': 'https://pbs.twimg.com/profile_images/766652495858896897/LjrJJB9a_normal.jpg',\n",
       "   'statuses_count': 47660,\n",
       "   'followers_count': 10765361,\n",
       "   'friends_count': 1943,\n",
       "   'media_count': 2664,\n",
       "   'name': 'Donald Trump Jr.'},\n",
       "  {'user_id': '18584875',\n",
       "   'screen_name': 'hodgetwins',\n",
       "   'description': 'Merch & Giveaways at: https://t.co/kxb8qjHatu Our show on Steven Crowder’s Network https://t.co/i5XwecMGFQ',\n",
       "   'profile_image': 'https://pbs.twimg.com/profile_images/1526065785659002880/uIvydi_U_normal.jpg',\n",
       "   'statuses_count': 22231,\n",
       "   'followers_count': 2333656,\n",
       "   'friends_count': 2494,\n",
       "   'media_count': 1990,\n",
       "   'name': 'Hodgetwins'},\n",
       "  {'user_id': '4914384040',\n",
       "   'screen_name': 'TheBabylonBee',\n",
       "   'description': 'Fake news you can trust.',\n",
       "   'profile_image': 'https://pbs.twimg.com/profile_images/1400100770624720898/-HC7kL5x_normal.jpg',\n",
       "   'statuses_count': 24469,\n",
       "   'followers_count': 3325253,\n",
       "   'friends_count': 8,\n",
       "   'media_count': 8380,\n",
       "   'name': 'The Babylon Bee'},\n",
       "  {'user_id': '18166778',\n",
       "   'screen_name': 'Jim_Jordan',\n",
       "   'description': \"Proudly serving Ohio's beautiful Fourth District. Chairman @JudiciaryGOP, @Weaponization. Fighting to #DoWhatWeSaid\",\n",
       "   'profile_image': 'https://pbs.twimg.com/profile_images/596012379231617025/TtrAXbnA_normal.jpg',\n",
       "   'statuses_count': 12717,\n",
       "   'followers_count': 4753753,\n",
       "   'friends_count': 3710,\n",
       "   'media_count': 1555,\n",
       "   'name': 'Rep. Jim Jordan'},\n",
       "  {'user_id': '232901331',\n",
       "   'screen_name': 'dbongino',\n",
       "   'description': 'Public Enemy #1',\n",
       "   'profile_image': 'https://pbs.twimg.com/profile_images/1484871034104958980/tA9vFFnu_normal.jpg',\n",
       "   'statuses_count': 41555,\n",
       "   'followers_count': 4914460,\n",
       "   'friends_count': 1764,\n",
       "   'media_count': 1381,\n",
       "   'name': 'Dan Bongino'},\n",
       "  {'user_id': '427089628',\n",
       "   'screen_name': 'lexfridman',\n",
       "   'description': 'Host of Lex Fridman Podcast.\\nInterested in robots and humans.',\n",
       "   'profile_image': 'https://pbs.twimg.com/profile_images/956331551435960322/OaqR8pAB_normal.jpg',\n",
       "   'statuses_count': 3053,\n",
       "   'followers_count': 3270327,\n",
       "   'friends_count': 91,\n",
       "   'media_count': 1008,\n",
       "   'name': 'Lex Fridman'},\n",
       "  {'user_id': '1201670995435646976',\n",
       "   'screen_name': 'laurenboebert',\n",
       "   'description': 'Lauren Boebert for Congress Account: Congresswoman CO-03. Professional RINO Hunter. Mom/Gigi raising my boys to be MEN before liberals teach them to be women!',\n",
       "   'profile_image': 'https://pbs.twimg.com/profile_images/1498803395578236934/vGGuE9-k_normal.jpg',\n",
       "   'statuses_count': 8877,\n",
       "   'followers_count': 3134369,\n",
       "   'friends_count': 1344,\n",
       "   'media_count': 996,\n",
       "   'name': 'Lauren Boebert'},\n",
       "  {'user_id': '91882544',\n",
       "   'screen_name': 'DineshDSouza',\n",
       "   'description': 'You must watch my new film POLICE STATE immediately! Streaming and DVD available at https://t.co/svoIh1uXVX',\n",
       "   'profile_image': 'https://pbs.twimg.com/profile_images/890967538292711424/8puyFbiI_normal.jpg',\n",
       "   'statuses_count': 129276,\n",
       "   'followers_count': 3804198,\n",
       "   'friends_count': 7478,\n",
       "   'media_count': 12114,\n",
       "   'name': \"Dinesh D'Souza\"},\n",
       "  {'user_id': '1344356576786866176',\n",
       "   'screen_name': 'RepMTG',\n",
       "   'description': 'Christian, Mother, American, Business Owner, and Congresswoman representing Georgia’s 14th District',\n",
       "   'profile_image': 'https://pbs.twimg.com/profile_images/1694851591608627200/hYLDFj9G_normal.jpg',\n",
       "   'statuses_count': 5856,\n",
       "   'followers_count': 2917396,\n",
       "   'friends_count': 409,\n",
       "   'media_count': 1470,\n",
       "   'name': 'Rep. Marjorie Taylor Greene🇺🇸'},\n",
       "  {'user_id': '17995040',\n",
       "   'screen_name': 'benshapiro',\n",
       "   'description': 'Editor Emeritus, @realDailyWire, Host of \"The Ben Shapiro Show.” Facts don\\'t care about your feelings.',\n",
       "   'profile_image': 'https://pbs.twimg.com/profile_images/1580596905721171969/0NnLeJWA_normal.jpg',\n",
       "   'statuses_count': 191717,\n",
       "   'followers_count': 6467321,\n",
       "   'friends_count': 372,\n",
       "   'media_count': 7924,\n",
       "   'name': 'Ben Shapiro'},\n",
       "  {'user_id': '34743251',\n",
       "   'screen_name': 'SpaceX',\n",
       "   'description': 'SpaceX designs, manufactures and launches the world’s most advanced rockets and spacecraft',\n",
       "   'profile_image': 'https://pbs.twimg.com/profile_images/1697749409851985920/HbrI04tM_normal.jpg',\n",
       "   'statuses_count': 7712,\n",
       "   'followers_count': 32718280,\n",
       "   'friends_count': 102,\n",
       "   'media_count': 2698,\n",
       "   'name': 'SpaceX'},\n",
       "  {'user_id': '33608041',\n",
       "   'screen_name': 'ksorbs',\n",
       "   'description': 'Actor, director, producer, author.',\n",
       "   'profile_image': 'https://pbs.twimg.com/profile_images/973666854995599361/A_xzZ5Qv_normal.jpg',\n",
       "   'statuses_count': 19845,\n",
       "   'followers_count': 1879888,\n",
       "   'friends_count': 443,\n",
       "   'media_count': 2044,\n",
       "   'name': 'Kevin Sorbo'},\n",
       "  {'user_id': '1467931973616386052',\n",
       "   'screen_name': 'ThisIsKyleR',\n",
       "   'description': 'Order my new book ACQUITTED today!👇',\n",
       "   'profile_image': 'https://pbs.twimg.com/profile_images/1726405741798408192/jTrLlE51_normal.jpg',\n",
       "   'statuses_count': 2050,\n",
       "   'followers_count': 1132436,\n",
       "   'friends_count': 548,\n",
       "   'media_count': 128,\n",
       "   'name': 'Kyle Rittenhouse'},\n",
       "  {'user_id': '18266688',\n",
       "   'screen_name': 'TomFitton',\n",
       "   'description': 'President, Judicial Watch. Fact checker. \"Expert\" (These are my personal views only!) LATEST BEST SELLER BOOK: A Republic Under Assault: https://t.co/0SmAJ7aAGp',\n",
       "   'profile_image': 'https://pbs.twimg.com/profile_images/964235516794171392/ktAX5u2i_normal.jpg',\n",
       "   'statuses_count': 75175,\n",
       "   'followers_count': 2493511,\n",
       "   'friends_count': 4170,\n",
       "   'media_count': 8342,\n",
       "   'name': 'Tom Fitton'},\n",
       "  {'user_id': '216881337',\n",
       "   'screen_name': 'RandPaul',\n",
       "   'description': 'U.S. Senator for Kentucky | I fight for the Constitution, individual liberty and the freedoms that make this country great.',\n",
       "   'profile_image': 'https://pbs.twimg.com/profile_images/681152691461042177/_PrgDgFA_normal.jpg',\n",
       "   'statuses_count': 17610,\n",
       "   'followers_count': 5069014,\n",
       "   'friends_count': 681,\n",
       "   'media_count': 3538,\n",
       "   'name': 'Rand Paul'},\n",
       "  {'user_id': '23022687',\n",
       "   'screen_name': 'tedcruz',\n",
       "   'description': \"Father of two, @heidiscruz's husband, fighter for liberty. Representing the great state of Texas in the U.S. Senate.\",\n",
       "   'profile_image': 'https://pbs.twimg.com/profile_images/1717966605903179776/scSx1uhK_normal.jpg',\n",
       "   'statuses_count': 45193,\n",
       "   'followers_count': 6255113,\n",
       "   'friends_count': 5406,\n",
       "   'media_count': 6818,\n",
       "   'name': 'Ted Cruz'},\n",
       "  {'user_id': '13298072',\n",
       "   'screen_name': 'Tesla',\n",
       "   'description': 'Electric vehicles, giant batteries & solar',\n",
       "   'profile_image': 'https://pbs.twimg.com/profile_images/1337607516008501250/6Ggc4S5n_normal.png',\n",
       "   'statuses_count': 8281,\n",
       "   'followers_count': 21410945,\n",
       "   'friends_count': 55,\n",
       "   'media_count': 1609,\n",
       "   'name': 'Tesla'},\n",
       "  {'user_id': '259001548',\n",
       "   'screen_name': 'kayleighmcenany',\n",
       "   'description': 'Co-host @OutnumberedFNC. Fmr. White House Press Secretary. Author of \"Serenity in the Storm.” Harvard Law. Georgetown SFS.',\n",
       "   'profile_image': 'https://pbs.twimg.com/profile_images/1643718067359285250/kHpukWKC_normal.jpg',\n",
       "   'statuses_count': 24754,\n",
       "   'followers_count': 3478148,\n",
       "   'friends_count': 2627,\n",
       "   'media_count': 2046,\n",
       "   'name': 'Kayleigh McEnany'},\n",
       "  {'user_id': '20545835',\n",
       "   'screen_name': 'NEWSMAX',\n",
       "   'description': 'Real News for Real People. \\n\\nWatch NEWSMAX, an independent news network with a conservative perspective, available in 100M+ U.S. homes: https://t.co/rs8XZDalW3',\n",
       "   'profile_image': 'https://pbs.twimg.com/profile_images/1394735604269817857/AXKKo6XT_normal.jpg',\n",
       "   'statuses_count': 194071,\n",
       "   'followers_count': 2610234,\n",
       "   'friends_count': 719,\n",
       "   'media_count': 51197,\n",
       "   'name': 'NEWSMAX'},\n",
       "  {'user_id': '1736768014857408512',\n",
       "   'screen_name': 'Moss0Narco11258',\n",
       "   'description': '',\n",
       "   'profile_image': 'https://pbs.twimg.com/profile_images/1736768431892951040/iRUNpmcw_normal.png',\n",
       "   'statuses_count': 0,\n",
       "   'followers_count': 0,\n",
       "   'friends_count': 1,\n",
       "   'media_count': 0,\n",
       "   'name': 'narcotic moss0'},\n",
       "  {'user_id': '1736768246345310208',\n",
       "   'screen_name': 'JollyN25134',\n",
       "   'description': '',\n",
       "   'profile_image': 'https://pbs.twimg.com/profile_images/1736768430538186752/rdZ80u2R_normal.jpg',\n",
       "   'statuses_count': 0,\n",
       "   'followers_count': 0,\n",
       "   'friends_count': 3,\n",
       "   'media_count': 0,\n",
       "   'name': 'jolly next'},\n",
       "  {'user_id': '1736767753329999872',\n",
       "   'screen_name': 'rodrigo28123333',\n",
       "   'description': '',\n",
       "   'profile_image': 'https://pbs.twimg.com/profile_images/1736768235863781377/Ix0uJVkH_normal.jpg',\n",
       "   'statuses_count': 0,\n",
       "   'followers_count': 0,\n",
       "   'friends_count': 1,\n",
       "   'media_count': 0,\n",
       "   'name': 'rodrigo'},\n",
       "  {'user_id': '1736767120195698688',\n",
       "   'screen_name': 'StephanieC87636',\n",
       "   'description': '',\n",
       "   'profile_image': 'https://abs.twimg.com/sticky/default_profile_images/default_profile_normal.png',\n",
       "   'statuses_count': 0,\n",
       "   'followers_count': 0,\n",
       "   'friends_count': 1,\n",
       "   'media_count': 0,\n",
       "   'name': 'Stephanie Cook'},\n",
       "  {'user_id': '1736768237612756992',\n",
       "   'screen_name': 'bonnie91204',\n",
       "   'description': '',\n",
       "   'profile_image': 'https://pbs.twimg.com/profile_images/1736768429254737920/7tARq9yp_normal.jpg',\n",
       "   'statuses_count': 0,\n",
       "   'followers_count': 0,\n",
       "   'friends_count': 3,\n",
       "   'media_count': 0,\n",
       "   'name': 'Bonnie Smith'},\n",
       "  {'user_id': '1311724602498920450',\n",
       "   'screen_name': 'Nana1067330778',\n",
       "   'description': 'retired',\n",
       "   'profile_image': 'https://abs.twimg.com/sticky/default_profile_images/default_profile_normal.png',\n",
       "   'statuses_count': 45,\n",
       "   'followers_count': 4,\n",
       "   'friends_count': 27,\n",
       "   'media_count': 0,\n",
       "   'name': 'Nana#10'},\n",
       "  {'user_id': '1736767656232103936',\n",
       "   'screen_name': 'MarionG34765',\n",
       "   'description': '',\n",
       "   'profile_image': 'https://abs.twimg.com/sticky/default_profile_images/default_profile_normal.png',\n",
       "   'statuses_count': 0,\n",
       "   'followers_count': 0,\n",
       "   'friends_count': 1,\n",
       "   'media_count': 0,\n",
       "   'name': 'Marion Gray'},\n",
       "  {'user_id': '1736768110848532480',\n",
       "   'screen_name': 'ZiZao47707',\n",
       "   'description': '',\n",
       "   'profile_image': 'https://pbs.twimg.com/profile_images/1736768427845722112/mInhVhkV_normal.jpg',\n",
       "   'statuses_count': 0,\n",
       "   'followers_count': 0,\n",
       "   'friends_count': 1,\n",
       "   'media_count': 0,\n",
       "   'name': '早川京子'},\n",
       "  {'user_id': '1736768279467675648',\n",
       "   'screen_name': 'FSjoden67132',\n",
       "   'description': '',\n",
       "   'profile_image': 'https://abs.twimg.com/sticky/default_profile_images/default_profile_normal.png',\n",
       "   'statuses_count': 0,\n",
       "   'followers_count': 0,\n",
       "   'friends_count': 3,\n",
       "   'media_count': 0,\n",
       "   'name': 'Felix Sjöden'},\n",
       "  {'user_id': '1736767427894255616',\n",
       "   'screen_name': 'ForrestSue89171',\n",
       "   'description': '',\n",
       "   'profile_image': 'https://abs.twimg.com/sticky/default_profile_images/default_profile_normal.png',\n",
       "   'statuses_count': 0,\n",
       "   'followers_count': 0,\n",
       "   'friends_count': 1,\n",
       "   'media_count': 0,\n",
       "   'name': 'Forrest Sue'},\n",
       "  {'user_id': '1736768205585260544',\n",
       "   'screen_name': 'DavidGarci73577',\n",
       "   'description': '',\n",
       "   'profile_image': 'https://abs.twimg.com/sticky/default_profile_images/default_profile_normal.png',\n",
       "   'statuses_count': 0,\n",
       "   'followers_count': 0,\n",
       "   'friends_count': 0,\n",
       "   'media_count': 0,\n",
       "   'name': 'David Garcia'},\n",
       "  {'user_id': '1736768483223101440',\n",
       "   'screen_name': 'valderezli1273',\n",
       "   'description': '',\n",
       "   'profile_image': 'https://abs.twimg.com/sticky/default_profile_images/default_profile_normal.png',\n",
       "   'statuses_count': 0,\n",
       "   'followers_count': 0,\n",
       "   'friends_count': 1,\n",
       "   'media_count': 0,\n",
       "   'name': 'valderezlira4'},\n",
       "  {'user_id': '1736768286778396672',\n",
       "   'screen_name': 'SsenyongaU53072',\n",
       "   'description': '',\n",
       "   'profile_image': 'https://pbs.twimg.com/profile_images/1736768389631082496/7jvwUUMX_normal.jpg',\n",
       "   'statuses_count': 0,\n",
       "   'followers_count': 0,\n",
       "   'friends_count': 7,\n",
       "   'media_count': 0,\n",
       "   'name': 'Ssenyonga Umar'},\n",
       "  {'user_id': '1736722717242744833',\n",
       "   'screen_name': 'SA5HZ',\n",
       "   'description': '',\n",
       "   'profile_image': 'https://pbs.twimg.com/profile_images/1736725927441448960/pp_MPkeN_normal.jpg',\n",
       "   'statuses_count': 0,\n",
       "   'followers_count': 3,\n",
       "   'friends_count': 8,\n",
       "   'media_count': 0,\n",
       "   'name': 'sasha'},\n",
       "  {'user_id': '1736768177290313729',\n",
       "   'screen_name': 'KThoum94692',\n",
       "   'description': '',\n",
       "   'profile_image': 'https://pbs.twimg.com/profile_images/1736768368013639680/oWXmgzTd_normal.png',\n",
       "   'statuses_count': 0,\n",
       "   'followers_count': 0,\n",
       "   'friends_count': 18,\n",
       "   'media_count': 0,\n",
       "   'name': 'Kal Thoum'},\n",
       "  {'user_id': '1736768252112773120',\n",
       "   'screen_name': 'xx2802062568350',\n",
       "   'description': '',\n",
       "   'profile_image': 'https://abs.twimg.com/sticky/default_profile_images/default_profile_normal.png',\n",
       "   'statuses_count': 0,\n",
       "   'followers_count': 0,\n",
       "   'friends_count': 0,\n",
       "   'media_count': 0,\n",
       "   'name': 'xx'},\n",
       "  {'user_id': '1736766102334824448',\n",
       "   'screen_name': 'StephanieT77119',\n",
       "   'description': '',\n",
       "   'profile_image': 'https://abs.twimg.com/sticky/default_profile_images/default_profile_normal.png',\n",
       "   'statuses_count': 0,\n",
       "   'followers_count': 0,\n",
       "   'friends_count': 2,\n",
       "   'media_count': 0,\n",
       "   'name': 'Stephanie Tenorio'},\n",
       "  {'user_id': '1736768377769852928',\n",
       "   'screen_name': 'farhan996658',\n",
       "   'description': '',\n",
       "   'profile_image': 'https://abs.twimg.com/sticky/default_profile_images/default_profile_normal.png',\n",
       "   'statuses_count': 0,\n",
       "   'followers_count': 0,\n",
       "   'friends_count': 5,\n",
       "   'media_count': 0,\n",
       "   'name': 'farhan'},\n",
       "  {'user_id': '1736768271276249088',\n",
       "   'screen_name': 'kn9613676225292',\n",
       "   'description': '',\n",
       "   'profile_image': 'https://abs.twimg.com/sticky/default_profile_images/default_profile_normal.png',\n",
       "   'statuses_count': 0,\n",
       "   'followers_count': 0,\n",
       "   'friends_count': 1,\n",
       "   'media_count': 0,\n",
       "   'name': '栞'},\n",
       "  {'user_id': '1736768347088314368',\n",
       "   'screen_name': 'theoallestam',\n",
       "   'description': '',\n",
       "   'profile_image': 'https://abs.twimg.com/sticky/default_profile_images/default_profile_normal.png',\n",
       "   'statuses_count': 0,\n",
       "   'followers_count': 0,\n",
       "   'friends_count': 1,\n",
       "   'media_count': 0,\n",
       "   'name': 'Theo'},\n",
       "  {'user_id': '1736768240465084416',\n",
       "   'screen_name': 'ke_lao90676',\n",
       "   'description': '',\n",
       "   'profile_image': 'https://abs.twimg.com/sticky/default_profile_images/default_profile_normal.png',\n",
       "   'statuses_count': 0,\n",
       "   'followers_count': 0,\n",
       "   'friends_count': 0,\n",
       "   'media_count': 0,\n",
       "   'name': '可老叫老睡'},\n",
       "  {'user_id': '1736766138019975168',\n",
       "   'screen_name': 'tdylfj',\n",
       "   'description': '',\n",
       "   'profile_image': 'https://abs.twimg.com/sticky/default_profile_images/default_profile_normal.png',\n",
       "   'statuses_count': 0,\n",
       "   'followers_count': 0,\n",
       "   'friends_count': 1,\n",
       "   'media_count': 0,\n",
       "   'name': 'Sisjsjs'},\n",
       "  {'user_id': '1736767975506735104',\n",
       "   'screen_name': 'Aizy1361533',\n",
       "   'description': '',\n",
       "   'profile_image': 'https://abs.twimg.com/sticky/default_profile_images/default_profile_normal.png',\n",
       "   'statuses_count': 0,\n",
       "   'followers_count': 0,\n",
       "   'friends_count': 1,\n",
       "   'media_count': 0,\n",
       "   'name': 'Aizy'},\n",
       "  {'user_id': '1736767094262476800',\n",
       "   'screen_name': 'GeorgiaFra17112',\n",
       "   'description': '',\n",
       "   'profile_image': 'https://abs.twimg.com/sticky/default_profile_images/default_profile_normal.png',\n",
       "   'statuses_count': 0,\n",
       "   'followers_count': 0,\n",
       "   'friends_count': 6,\n",
       "   'media_count': 0,\n",
       "   'name': 'Georgia Francis'},\n",
       "  {'user_id': '1736767810552913920',\n",
       "   'screen_name': 'VikaSoroka29054',\n",
       "   'description': '',\n",
       "   'profile_image': 'https://pbs.twimg.com/profile_images/1736768213835247616/CEJC6jdo_normal.png',\n",
       "   'statuses_count': 0,\n",
       "   'followers_count': 0,\n",
       "   'friends_count': 2,\n",
       "   'media_count': 0,\n",
       "   'name': 'Vika Soroka'},\n",
       "  {'user_id': '1736768241769607168',\n",
       "   'screen_name': 'na_wei35811',\n",
       "   'description': '',\n",
       "   'profile_image': 'https://abs.twimg.com/sticky/default_profile_images/default_profile_normal.png',\n",
       "   'statuses_count': 0,\n",
       "   'followers_count': 0,\n",
       "   'friends_count': 0,\n",
       "   'media_count': 0,\n",
       "   'name': '梁维娜'},\n",
       "  {'user_id': '1736768286065627137',\n",
       "   'screen_name': 'dhhx45058',\n",
       "   'description': '',\n",
       "   'profile_image': 'https://abs.twimg.com/sticky/default_profile_images/default_profile_normal.png',\n",
       "   'statuses_count': 0,\n",
       "   'followers_count': 0,\n",
       "   'friends_count': 1,\n",
       "   'media_count': 0,\n",
       "   'name': 'dhhx'},\n",
       "  {'user_id': '1736768009396699136',\n",
       "   'screen_name': 'YueYe90016',\n",
       "   'description': '',\n",
       "   'profile_image': 'https://pbs.twimg.com/profile_images/1736768354197929984/a3mnTYPV_normal.jpg',\n",
       "   'statuses_count': 0,\n",
       "   'followers_count': 0,\n",
       "   'friends_count': 1,\n",
       "   'media_count': 0,\n",
       "   'name': '月野沙織'},\n",
       "  {'user_id': '1736768264305360897',\n",
       "   'screen_name': 'lyng973716',\n",
       "   'description': '',\n",
       "   'profile_image': 'https://abs.twimg.com/sticky/default_profile_images/default_profile_normal.png',\n",
       "   'statuses_count': 0,\n",
       "   'followers_count': 0,\n",
       "   'friends_count': 1,\n",
       "   'media_count': 0,\n",
       "   'name': '莉央'},\n",
       "  {'user_id': '1736768231090905088',\n",
       "   'screen_name': 'Mark36351896887',\n",
       "   'description': '',\n",
       "   'profile_image': 'https://abs.twimg.com/sticky/default_profile_images/default_profile_normal.png',\n",
       "   'statuses_count': 0,\n",
       "   'followers_count': 0,\n",
       "   'friends_count': 1,\n",
       "   'media_count': 0,\n",
       "   'name': 'Mark ❣️'},\n",
       "  {'user_id': '1736768243757658112',\n",
       "   'screen_name': 'yuanshen245430',\n",
       "   'description': '',\n",
       "   'profile_image': 'https://abs.twimg.com/sticky/default_profile_images/default_profile_normal.png',\n",
       "   'statuses_count': 0,\n",
       "   'followers_count': 0,\n",
       "   'friends_count': 0,\n",
       "   'media_count': 0,\n",
       "   'name': 'yuanshen'},\n",
       "  {'user_id': '1736765130459750400',\n",
       "   'screen_name': 'Sarinka3298',\n",
       "   'description': '',\n",
       "   'profile_image': 'https://pbs.twimg.com/profile_images/1736767582273732608/XRLyq8NM_normal.png',\n",
       "   'statuses_count': 0,\n",
       "   'followers_count': 0,\n",
       "   'friends_count': 2,\n",
       "   'media_count': 0,\n",
       "   'name': 'Šárka Jonášová'},\n",
       "  {'user_id': '1736768437077024768',\n",
       "   'screen_name': 'dionatansa17511',\n",
       "   'description': '',\n",
       "   'profile_image': 'https://pbs.twimg.com/profile_images/1736768505679069184/u-e7HynT_normal.jpg',\n",
       "   'statuses_count': 0,\n",
       "   'followers_count': 0,\n",
       "   'friends_count': 1,\n",
       "   'media_count': 0,\n",
       "   'name': 'dionatansarm'},\n",
       "  {'user_id': '1736767583322275840',\n",
       "   'screen_name': 'Naeim_27',\n",
       "   'description': '',\n",
       "   'profile_image': 'https://pbs.twimg.com/profile_images/1736767679933923329/-YwRWBmq_normal.png',\n",
       "   'statuses_count': 0,\n",
       "   'followers_count': 0,\n",
       "   'friends_count': 2,\n",
       "   'media_count': 0,\n",
       "   'name': 'Mogamat Naeim'},\n",
       "  {'user_id': '1736767950030573568',\n",
       "   'screen_name': 'dinhpanh2128',\n",
       "   'description': '',\n",
       "   'profile_image': 'https://pbs.twimg.com/profile_images/1736768025704181760/NWAErOV9_normal.jpg',\n",
       "   'statuses_count': 0,\n",
       "   'followers_count': 0,\n",
       "   'friends_count': 1,\n",
       "   'media_count': 0,\n",
       "   'name': 'Đinh Phương Anh'},\n",
       "  {'user_id': '1736767535393943552',\n",
       "   'screen_name': 'AlissonAle29883',\n",
       "   'description': '',\n",
       "   'profile_image': 'https://abs.twimg.com/sticky/default_profile_images/default_profile_normal.png',\n",
       "   'statuses_count': 0,\n",
       "   'followers_count': 0,\n",
       "   'friends_count': 32,\n",
       "   'media_count': 0,\n",
       "   'name': 'Alisson Alencar'},\n",
       "  {'user_id': '1736767945605283840',\n",
       "   'screen_name': 'olialexsmith',\n",
       "   'description': '',\n",
       "   'profile_image': 'https://abs.twimg.com/sticky/default_profile_images/default_profile_normal.png',\n",
       "   'statuses_count': 0,\n",
       "   'followers_count': 0,\n",
       "   'friends_count': 1,\n",
       "   'media_count': 0,\n",
       "   'name': 'oliveralexsmith'},\n",
       "  {'user_id': '1734902072422674432',\n",
       "   'screen_name': 'KKrzeslak51160',\n",
       "   'description': '',\n",
       "   'profile_image': 'https://pbs.twimg.com/profile_images/1734902148960247808/IZx6X2nm_normal.png',\n",
       "   'statuses_count': 0,\n",
       "   'followers_count': 0,\n",
       "   'friends_count': 2,\n",
       "   'media_count': 0,\n",
       "   'name': 'Konrad Krześlak'},\n",
       "  {'user_id': '1736768427518251008',\n",
       "   'screen_name': 'gercinavil42586',\n",
       "   'description': 'â†ªï¸\\x8f allyne_silva21\\nâ†ªï¸\\x8f top afiliado\\nâ¤µï¸\\x8flink wh',\n",
       "   'profile_image': 'https://pbs.twimg.com/profile_images/1736768486712459264/6lbNGZNG_normal.jpg',\n",
       "   'statuses_count': 0,\n",
       "   'followers_count': 0,\n",
       "   'friends_count': 1,\n",
       "   'media_count': 0,\n",
       "   'name': 'gercinavil'},\n",
       "  {'user_id': '1736768120428040192',\n",
       "   'screen_name': 'q7f8q5h8c876733',\n",
       "   'description': '',\n",
       "   'profile_image': 'https://abs.twimg.com/sticky/default_profile_images/default_profile_normal.png',\n",
       "   'statuses_count': 0,\n",
       "   'followers_count': 0,\n",
       "   'friends_count': 1,\n",
       "   'media_count': 0,\n",
       "   'name': 'q7f8q5h8c8k2q4'},\n",
       "  {'user_id': '1736767838050766849',\n",
       "   'screen_name': 'KevinZ2060308',\n",
       "   'description': '',\n",
       "   'profile_image': 'https://abs.twimg.com/sticky/default_profile_images/default_profile_normal.png',\n",
       "   'statuses_count': 0,\n",
       "   'followers_count': 0,\n",
       "   'friends_count': 7,\n",
       "   'media_count': 0,\n",
       "   'name': 'Kevin Z'},\n",
       "  {'user_id': '1736767780458811392',\n",
       "   'screen_name': 'wikibalboa',\n",
       "   'description': 'jeszcze bedzie hajc',\n",
       "   'profile_image': 'https://pbs.twimg.com/profile_images/1736768166578008064/imPqM4VK_normal.jpg',\n",
       "   'statuses_count': 0,\n",
       "   'followers_count': 0,\n",
       "   'friends_count': 15,\n",
       "   'media_count': 0,\n",
       "   'name': 'Wiktoria'},\n",
       "  {'user_id': '1736767447330361344',\n",
       "   'screen_name': 'KuchtaRebe42560',\n",
       "   'description': '',\n",
       "   'profile_image': 'https://abs.twimg.com/sticky/default_profile_images/default_profile_normal.png',\n",
       "   'statuses_count': 0,\n",
       "   'followers_count': 0,\n",
       "   'friends_count': 2,\n",
       "   'media_count': 0,\n",
       "   'name': 'Rebecca Kuchta'},\n",
       "  {'user_id': '1736768105664430080',\n",
       "   'screen_name': 'hanni6799',\n",
       "   'description': '',\n",
       "   'profile_image': 'https://abs.twimg.com/sticky/default_profile_images/default_profile_normal.png',\n",
       "   'statuses_count': 0,\n",
       "   'followers_count': 0,\n",
       "   'friends_count': 4,\n",
       "   'media_count': 0,\n",
       "   'name': 'hanni6799'},\n",
       "  {'user_id': '1736766980135292928',\n",
       "   'screen_name': 'KimberlyEv14511',\n",
       "   'description': '',\n",
       "   'profile_image': 'https://abs.twimg.com/sticky/default_profile_images/default_profile_normal.png',\n",
       "   'statuses_count': 0,\n",
       "   'followers_count': 0,\n",
       "   'friends_count': 2,\n",
       "   'media_count': 0,\n",
       "   'name': 'Kimberly Evans'},\n",
       "  {'user_id': '1736768112404430848',\n",
       "   'screen_name': 'Ye4presid3nt',\n",
       "   'description': '',\n",
       "   'profile_image': 'https://abs.twimg.com/sticky/default_profile_images/default_profile_normal.png',\n",
       "   'statuses_count': 0,\n",
       "   'followers_count': 0,\n",
       "   'friends_count': 2,\n",
       "   'media_count': 0,\n",
       "   'name': 'Lemo'},\n",
       "  {'user_id': '1736767957152288768',\n",
       "   'screen_name': 'HakimMahzoul',\n",
       "   'description': '',\n",
       "   'profile_image': 'https://pbs.twimg.com/profile_images/1736768159544119297/ks6UVw46_normal.png',\n",
       "   'statuses_count': 0,\n",
       "   'followers_count': 0,\n",
       "   'friends_count': 1,\n",
       "   'media_count': 0,\n",
       "   'name': 'Hakim MAHZOUL'},\n",
       "  {'user_id': '1736767806748651520',\n",
       "   'screen_name': 'BluntHeidi42139',\n",
       "   'description': '',\n",
       "   'profile_image': 'https://abs.twimg.com/sticky/default_profile_images/default_profile_normal.png',\n",
       "   'statuses_count': 0,\n",
       "   'followers_count': 0,\n",
       "   'friends_count': 3,\n",
       "   'media_count': 0,\n",
       "   'name': 'Heidi Blunt'},\n",
       "  {'user_id': '1736768154758770688',\n",
       "   'screen_name': 'idohyeon270135',\n",
       "   'description': '',\n",
       "   'profile_image': 'https://pbs.twimg.com/profile_images/1736768384828874752/oRpP5lPp_normal.png',\n",
       "   'statuses_count': 0,\n",
       "   'followers_count': 0,\n",
       "   'friends_count': 0,\n",
       "   'media_count': 0,\n",
       "   'name': '이도현'},\n",
       "  {'user_id': '1699458988323037188',\n",
       "   'screen_name': 'ELISA5867597058',\n",
       "   'description': '',\n",
       "   'profile_image': 'https://abs.twimg.com/sticky/default_profile_images/default_profile_normal.png',\n",
       "   'statuses_count': 1,\n",
       "   'followers_count': 0,\n",
       "   'friends_count': 5,\n",
       "   'media_count': 0,\n",
       "   'name': 'ELISA'}],\n",
       " 'next_cursor': '1785633535713536103|1736768547217997752',\n",
       " 'status': 'ok',\n",
       " 'more_users': True}"
      ]
     },
     "execution_count": 49,
     "metadata": {},
     "output_type": "execute_result"
    }
   ],
   "source": [
    "response.json()"
   ]
  },
  {
   "cell_type": "code",
   "execution_count": 22,
   "metadata": {},
   "outputs": [
    {
     "data": {
      "text/plain": [
       "{'user_id': '1736768014857408512',\n",
       " 'screen_name': 'Moss0Narco11258',\n",
       " 'description': '',\n",
       " 'profile_image': 'https://pbs.twimg.com/profile_images/1736768431892951040/iRUNpmcw_normal.png',\n",
       " 'statuses_count': 0,\n",
       " 'followers_count': 0,\n",
       " 'friends_count': 1,\n",
       " 'media_count': 0,\n",
       " 'name': 'narcotic moss0'}"
      ]
     },
     "metadata": {},
     "output_type": "display_data"
    },
    {
     "data": {
      "text/plain": [
       "{'user_id': '1736768246345310208',\n",
       " 'screen_name': 'JollyN25134',\n",
       " 'description': '',\n",
       " 'profile_image': 'https://pbs.twimg.com/profile_images/1736768430538186752/rdZ80u2R_normal.jpg',\n",
       " 'statuses_count': 0,\n",
       " 'followers_count': 0,\n",
       " 'friends_count': 3,\n",
       " 'media_count': 0,\n",
       " 'name': 'jolly next'}"
      ]
     },
     "metadata": {},
     "output_type": "display_data"
    },
    {
     "data": {
      "text/plain": [
       "{'user_id': '1736767753329999872',\n",
       " 'screen_name': 'rodrigo28123333',\n",
       " 'description': '',\n",
       " 'profile_image': 'https://pbs.twimg.com/profile_images/1736768235863781377/Ix0uJVkH_normal.jpg',\n",
       " 'statuses_count': 0,\n",
       " 'followers_count': 0,\n",
       " 'friends_count': 1,\n",
       " 'media_count': 0,\n",
       " 'name': 'rodrigo'}"
      ]
     },
     "metadata": {},
     "output_type": "display_data"
    },
    {
     "data": {
      "text/plain": [
       "{'user_id': '1736767120195698688',\n",
       " 'screen_name': 'StephanieC87636',\n",
       " 'description': '',\n",
       " 'profile_image': 'https://abs.twimg.com/sticky/default_profile_images/default_profile_normal.png',\n",
       " 'statuses_count': 0,\n",
       " 'followers_count': 0,\n",
       " 'friends_count': 1,\n",
       " 'media_count': 0,\n",
       " 'name': 'Stephanie Cook'}"
      ]
     },
     "metadata": {},
     "output_type": "display_data"
    },
    {
     "data": {
      "text/plain": [
       "{'user_id': '1736768237612756992',\n",
       " 'screen_name': 'bonnie91204',\n",
       " 'description': '',\n",
       " 'profile_image': 'https://pbs.twimg.com/profile_images/1736768429254737920/7tARq9yp_normal.jpg',\n",
       " 'statuses_count': 0,\n",
       " 'followers_count': 0,\n",
       " 'friends_count': 3,\n",
       " 'media_count': 0,\n",
       " 'name': 'Bonnie Smith'}"
      ]
     },
     "metadata": {},
     "output_type": "display_data"
    },
    {
     "data": {
      "text/plain": [
       "{'user_id': '1736767656232103936',\n",
       " 'screen_name': 'MarionG34765',\n",
       " 'description': '',\n",
       " 'profile_image': 'https://abs.twimg.com/sticky/default_profile_images/default_profile_normal.png',\n",
       " 'statuses_count': 0,\n",
       " 'followers_count': 0,\n",
       " 'friends_count': 1,\n",
       " 'media_count': 0,\n",
       " 'name': 'Marion Gray'}"
      ]
     },
     "metadata": {},
     "output_type": "display_data"
    },
    {
     "data": {
      "text/plain": [
       "{'user_id': '1736768110848532480',\n",
       " 'screen_name': 'ZiZao47707',\n",
       " 'description': '',\n",
       " 'profile_image': 'https://pbs.twimg.com/profile_images/1736768427845722112/mInhVhkV_normal.jpg',\n",
       " 'statuses_count': 0,\n",
       " 'followers_count': 0,\n",
       " 'friends_count': 1,\n",
       " 'media_count': 0,\n",
       " 'name': '早川京子'}"
      ]
     },
     "metadata": {},
     "output_type": "display_data"
    },
    {
     "data": {
      "text/plain": [
       "{'user_id': '1736768279467675648',\n",
       " 'screen_name': 'FSjoden67132',\n",
       " 'description': '',\n",
       " 'profile_image': 'https://abs.twimg.com/sticky/default_profile_images/default_profile_normal.png',\n",
       " 'statuses_count': 0,\n",
       " 'followers_count': 0,\n",
       " 'friends_count': 3,\n",
       " 'media_count': 0,\n",
       " 'name': 'Felix Sjöden'}"
      ]
     },
     "metadata": {},
     "output_type": "display_data"
    },
    {
     "data": {
      "text/plain": [
       "{'user_id': '1736767427894255616',\n",
       " 'screen_name': 'ForrestSue89171',\n",
       " 'description': '',\n",
       " 'profile_image': 'https://abs.twimg.com/sticky/default_profile_images/default_profile_normal.png',\n",
       " 'statuses_count': 0,\n",
       " 'followers_count': 0,\n",
       " 'friends_count': 1,\n",
       " 'media_count': 0,\n",
       " 'name': 'Forrest Sue'}"
      ]
     },
     "metadata": {},
     "output_type": "display_data"
    },
    {
     "data": {
      "text/plain": [
       "{'user_id': '1736768205585260544',\n",
       " 'screen_name': 'DavidGarci73577',\n",
       " 'description': '',\n",
       " 'profile_image': 'https://abs.twimg.com/sticky/default_profile_images/default_profile_normal.png',\n",
       " 'statuses_count': 0,\n",
       " 'followers_count': 0,\n",
       " 'friends_count': 0,\n",
       " 'media_count': 0,\n",
       " 'name': 'David Garcia'}"
      ]
     },
     "metadata": {},
     "output_type": "display_data"
    },
    {
     "data": {
      "text/plain": [
       "{'user_id': '1736768483223101440',\n",
       " 'screen_name': 'valderezli1273',\n",
       " 'description': '',\n",
       " 'profile_image': 'https://abs.twimg.com/sticky/default_profile_images/default_profile_normal.png',\n",
       " 'statuses_count': 0,\n",
       " 'followers_count': 0,\n",
       " 'friends_count': 1,\n",
       " 'media_count': 0,\n",
       " 'name': 'valderezlira4'}"
      ]
     },
     "metadata": {},
     "output_type": "display_data"
    },
    {
     "data": {
      "text/plain": [
       "{'user_id': '1736768286778396672',\n",
       " 'screen_name': 'SsenyongaU53072',\n",
       " 'description': '',\n",
       " 'profile_image': 'https://pbs.twimg.com/profile_images/1736768389631082496/7jvwUUMX_normal.jpg',\n",
       " 'statuses_count': 0,\n",
       " 'followers_count': 0,\n",
       " 'friends_count': 7,\n",
       " 'media_count': 0,\n",
       " 'name': 'Ssenyonga Umar'}"
      ]
     },
     "metadata": {},
     "output_type": "display_data"
    },
    {
     "data": {
      "text/plain": [
       "{'user_id': '1736768177290313729',\n",
       " 'screen_name': 'KThoum94692',\n",
       " 'description': '',\n",
       " 'profile_image': 'https://pbs.twimg.com/profile_images/1736768368013639680/oWXmgzTd_normal.png',\n",
       " 'statuses_count': 0,\n",
       " 'followers_count': 0,\n",
       " 'friends_count': 18,\n",
       " 'media_count': 0,\n",
       " 'name': 'Kal Thoum'}"
      ]
     },
     "metadata": {},
     "output_type": "display_data"
    },
    {
     "data": {
      "text/plain": [
       "{'user_id': '1736768252112773120',\n",
       " 'screen_name': 'xx2802062568350',\n",
       " 'description': '',\n",
       " 'profile_image': 'https://abs.twimg.com/sticky/default_profile_images/default_profile_normal.png',\n",
       " 'statuses_count': 0,\n",
       " 'followers_count': 0,\n",
       " 'friends_count': 0,\n",
       " 'media_count': 0,\n",
       " 'name': 'xx'}"
      ]
     },
     "metadata": {},
     "output_type": "display_data"
    },
    {
     "data": {
      "text/plain": [
       "{'user_id': '1736766102334824448',\n",
       " 'screen_name': 'StephanieT77119',\n",
       " 'description': '',\n",
       " 'profile_image': 'https://abs.twimg.com/sticky/default_profile_images/default_profile_normal.png',\n",
       " 'statuses_count': 0,\n",
       " 'followers_count': 0,\n",
       " 'friends_count': 2,\n",
       " 'media_count': 0,\n",
       " 'name': 'Stephanie Tenorio'}"
      ]
     },
     "metadata": {},
     "output_type": "display_data"
    },
    {
     "data": {
      "text/plain": [
       "{'user_id': '1736768377769852928',\n",
       " 'screen_name': 'farhan996658',\n",
       " 'description': '',\n",
       " 'profile_image': 'https://abs.twimg.com/sticky/default_profile_images/default_profile_normal.png',\n",
       " 'statuses_count': 0,\n",
       " 'followers_count': 0,\n",
       " 'friends_count': 5,\n",
       " 'media_count': 0,\n",
       " 'name': 'farhan'}"
      ]
     },
     "metadata": {},
     "output_type": "display_data"
    },
    {
     "data": {
      "text/plain": [
       "{'user_id': '1736768271276249088',\n",
       " 'screen_name': 'kn9613676225292',\n",
       " 'description': '',\n",
       " 'profile_image': 'https://abs.twimg.com/sticky/default_profile_images/default_profile_normal.png',\n",
       " 'statuses_count': 0,\n",
       " 'followers_count': 0,\n",
       " 'friends_count': 1,\n",
       " 'media_count': 0,\n",
       " 'name': '栞'}"
      ]
     },
     "metadata": {},
     "output_type": "display_data"
    },
    {
     "data": {
      "text/plain": [
       "{'user_id': '1736768347088314368',\n",
       " 'screen_name': 'theoallestam',\n",
       " 'description': '',\n",
       " 'profile_image': 'https://abs.twimg.com/sticky/default_profile_images/default_profile_normal.png',\n",
       " 'statuses_count': 0,\n",
       " 'followers_count': 0,\n",
       " 'friends_count': 1,\n",
       " 'media_count': 0,\n",
       " 'name': 'Theo'}"
      ]
     },
     "metadata": {},
     "output_type": "display_data"
    },
    {
     "data": {
      "text/plain": [
       "{'user_id': '1736768240465084416',\n",
       " 'screen_name': 'ke_lao90676',\n",
       " 'description': '',\n",
       " 'profile_image': 'https://abs.twimg.com/sticky/default_profile_images/default_profile_normal.png',\n",
       " 'statuses_count': 0,\n",
       " 'followers_count': 0,\n",
       " 'friends_count': 0,\n",
       " 'media_count': 0,\n",
       " 'name': '可老叫老睡'}"
      ]
     },
     "metadata": {},
     "output_type": "display_data"
    },
    {
     "data": {
      "text/plain": [
       "{'user_id': '1736766138019975168',\n",
       " 'screen_name': 'tdylfj',\n",
       " 'description': '',\n",
       " 'profile_image': 'https://abs.twimg.com/sticky/default_profile_images/default_profile_normal.png',\n",
       " 'statuses_count': 0,\n",
       " 'followers_count': 0,\n",
       " 'friends_count': 1,\n",
       " 'media_count': 0,\n",
       " 'name': 'Sisjsjs'}"
      ]
     },
     "metadata": {},
     "output_type": "display_data"
    },
    {
     "data": {
      "text/plain": [
       "{'user_id': '1736767975506735104',\n",
       " 'screen_name': 'Aizy1361533',\n",
       " 'description': '',\n",
       " 'profile_image': 'https://abs.twimg.com/sticky/default_profile_images/default_profile_normal.png',\n",
       " 'statuses_count': 0,\n",
       " 'followers_count': 0,\n",
       " 'friends_count': 1,\n",
       " 'media_count': 0,\n",
       " 'name': 'Aizy'}"
      ]
     },
     "metadata": {},
     "output_type": "display_data"
    },
    {
     "data": {
      "text/plain": [
       "{'user_id': '1736767094262476800',\n",
       " 'screen_name': 'GeorgiaFra17112',\n",
       " 'description': '',\n",
       " 'profile_image': 'https://abs.twimg.com/sticky/default_profile_images/default_profile_normal.png',\n",
       " 'statuses_count': 0,\n",
       " 'followers_count': 0,\n",
       " 'friends_count': 6,\n",
       " 'media_count': 0,\n",
       " 'name': 'Georgia Francis'}"
      ]
     },
     "metadata": {},
     "output_type": "display_data"
    },
    {
     "data": {
      "text/plain": [
       "{'user_id': '1736767810552913920',\n",
       " 'screen_name': 'VikaSoroka29054',\n",
       " 'description': '',\n",
       " 'profile_image': 'https://pbs.twimg.com/profile_images/1736768213835247616/CEJC6jdo_normal.png',\n",
       " 'statuses_count': 0,\n",
       " 'followers_count': 0,\n",
       " 'friends_count': 2,\n",
       " 'media_count': 0,\n",
       " 'name': 'Vika Soroka'}"
      ]
     },
     "metadata": {},
     "output_type": "display_data"
    },
    {
     "data": {
      "text/plain": [
       "{'user_id': '1736768241769607168',\n",
       " 'screen_name': 'na_wei35811',\n",
       " 'description': '',\n",
       " 'profile_image': 'https://abs.twimg.com/sticky/default_profile_images/default_profile_normal.png',\n",
       " 'statuses_count': 0,\n",
       " 'followers_count': 0,\n",
       " 'friends_count': 0,\n",
       " 'media_count': 0,\n",
       " 'name': '梁维娜'}"
      ]
     },
     "metadata": {},
     "output_type": "display_data"
    },
    {
     "data": {
      "text/plain": [
       "{'user_id': '1736768286065627137',\n",
       " 'screen_name': 'dhhx45058',\n",
       " 'description': '',\n",
       " 'profile_image': 'https://abs.twimg.com/sticky/default_profile_images/default_profile_normal.png',\n",
       " 'statuses_count': 0,\n",
       " 'followers_count': 0,\n",
       " 'friends_count': 1,\n",
       " 'media_count': 0,\n",
       " 'name': 'dhhx'}"
      ]
     },
     "metadata": {},
     "output_type": "display_data"
    },
    {
     "data": {
      "text/plain": [
       "{'user_id': '1736768009396699136',\n",
       " 'screen_name': 'YueYe90016',\n",
       " 'description': '',\n",
       " 'profile_image': 'https://pbs.twimg.com/profile_images/1736768354197929984/a3mnTYPV_normal.jpg',\n",
       " 'statuses_count': 0,\n",
       " 'followers_count': 0,\n",
       " 'friends_count': 1,\n",
       " 'media_count': 0,\n",
       " 'name': '月野沙織'}"
      ]
     },
     "metadata": {},
     "output_type": "display_data"
    },
    {
     "data": {
      "text/plain": [
       "{'user_id': '1736768264305360897',\n",
       " 'screen_name': 'lyng973716',\n",
       " 'description': '',\n",
       " 'profile_image': 'https://abs.twimg.com/sticky/default_profile_images/default_profile_normal.png',\n",
       " 'statuses_count': 0,\n",
       " 'followers_count': 0,\n",
       " 'friends_count': 1,\n",
       " 'media_count': 0,\n",
       " 'name': '莉央'}"
      ]
     },
     "metadata": {},
     "output_type": "display_data"
    },
    {
     "data": {
      "text/plain": [
       "{'user_id': '1736768231090905088',\n",
       " 'screen_name': 'Mark36351896887',\n",
       " 'description': '',\n",
       " 'profile_image': 'https://abs.twimg.com/sticky/default_profile_images/default_profile_normal.png',\n",
       " 'statuses_count': 0,\n",
       " 'followers_count': 0,\n",
       " 'friends_count': 1,\n",
       " 'media_count': 0,\n",
       " 'name': 'Mark ❣️'}"
      ]
     },
     "metadata": {},
     "output_type": "display_data"
    },
    {
     "data": {
      "text/plain": [
       "{'user_id': '1736768243757658112',\n",
       " 'screen_name': 'yuanshen245430',\n",
       " 'description': '',\n",
       " 'profile_image': 'https://abs.twimg.com/sticky/default_profile_images/default_profile_normal.png',\n",
       " 'statuses_count': 0,\n",
       " 'followers_count': 0,\n",
       " 'friends_count': 0,\n",
       " 'media_count': 0,\n",
       " 'name': 'yuanshen'}"
      ]
     },
     "metadata": {},
     "output_type": "display_data"
    },
    {
     "data": {
      "text/plain": [
       "{'user_id': '1736765130459750400',\n",
       " 'screen_name': 'Sarinka3298',\n",
       " 'description': '',\n",
       " 'profile_image': 'https://pbs.twimg.com/profile_images/1736767582273732608/XRLyq8NM_normal.png',\n",
       " 'statuses_count': 0,\n",
       " 'followers_count': 0,\n",
       " 'friends_count': 2,\n",
       " 'media_count': 0,\n",
       " 'name': 'Šárka Jonášová'}"
      ]
     },
     "metadata": {},
     "output_type": "display_data"
    },
    {
     "data": {
      "text/plain": [
       "{'user_id': '1736768437077024768',\n",
       " 'screen_name': 'dionatansa17511',\n",
       " 'description': '',\n",
       " 'profile_image': 'https://pbs.twimg.com/profile_images/1736768505679069184/u-e7HynT_normal.jpg',\n",
       " 'statuses_count': 0,\n",
       " 'followers_count': 0,\n",
       " 'friends_count': 1,\n",
       " 'media_count': 0,\n",
       " 'name': 'dionatansarm'}"
      ]
     },
     "metadata": {},
     "output_type": "display_data"
    },
    {
     "data": {
      "text/plain": [
       "{'user_id': '1736767583322275840',\n",
       " 'screen_name': 'Naeim_27',\n",
       " 'description': '',\n",
       " 'profile_image': 'https://pbs.twimg.com/profile_images/1736767679933923329/-YwRWBmq_normal.png',\n",
       " 'statuses_count': 0,\n",
       " 'followers_count': 0,\n",
       " 'friends_count': 2,\n",
       " 'media_count': 0,\n",
       " 'name': 'Mogamat Naeim'}"
      ]
     },
     "metadata": {},
     "output_type": "display_data"
    },
    {
     "data": {
      "text/plain": [
       "{'user_id': '1736767950030573568',\n",
       " 'screen_name': 'dinhpanh2128',\n",
       " 'description': '',\n",
       " 'profile_image': 'https://pbs.twimg.com/profile_images/1736768025704181760/NWAErOV9_normal.jpg',\n",
       " 'statuses_count': 0,\n",
       " 'followers_count': 0,\n",
       " 'friends_count': 1,\n",
       " 'media_count': 0,\n",
       " 'name': 'Đinh Phương Anh'}"
      ]
     },
     "metadata": {},
     "output_type": "display_data"
    },
    {
     "data": {
      "text/plain": [
       "{'user_id': '1736767535393943552',\n",
       " 'screen_name': 'AlissonAle29883',\n",
       " 'description': '',\n",
       " 'profile_image': 'https://abs.twimg.com/sticky/default_profile_images/default_profile_normal.png',\n",
       " 'statuses_count': 0,\n",
       " 'followers_count': 0,\n",
       " 'friends_count': 32,\n",
       " 'media_count': 0,\n",
       " 'name': 'Alisson Alencar'}"
      ]
     },
     "metadata": {},
     "output_type": "display_data"
    },
    {
     "data": {
      "text/plain": [
       "{'user_id': '1736767945605283840',\n",
       " 'screen_name': 'olialexsmith',\n",
       " 'description': '',\n",
       " 'profile_image': 'https://abs.twimg.com/sticky/default_profile_images/default_profile_normal.png',\n",
       " 'statuses_count': 0,\n",
       " 'followers_count': 0,\n",
       " 'friends_count': 1,\n",
       " 'media_count': 0,\n",
       " 'name': 'oliveralexsmith'}"
      ]
     },
     "metadata": {},
     "output_type": "display_data"
    },
    {
     "data": {
      "text/plain": [
       "{'user_id': '1734902072422674432',\n",
       " 'screen_name': 'KKrzeslak51160',\n",
       " 'description': '',\n",
       " 'profile_image': 'https://pbs.twimg.com/profile_images/1734902148960247808/IZx6X2nm_normal.png',\n",
       " 'statuses_count': 0,\n",
       " 'followers_count': 0,\n",
       " 'friends_count': 2,\n",
       " 'media_count': 0,\n",
       " 'name': 'Konrad Krześlak'}"
      ]
     },
     "metadata": {},
     "output_type": "display_data"
    },
    {
     "data": {
      "text/plain": [
       "{'user_id': '1736768427518251008',\n",
       " 'screen_name': 'gercinavil42586',\n",
       " 'description': 'â†ªï¸\\x8f allyne_silva21\\nâ†ªï¸\\x8f top afiliado\\nâ¤µï¸\\x8flink wh',\n",
       " 'profile_image': 'https://pbs.twimg.com/profile_images/1736768486712459264/6lbNGZNG_normal.jpg',\n",
       " 'statuses_count': 0,\n",
       " 'followers_count': 0,\n",
       " 'friends_count': 1,\n",
       " 'media_count': 0,\n",
       " 'name': 'gercinavil'}"
      ]
     },
     "metadata": {},
     "output_type": "display_data"
    },
    {
     "data": {
      "text/plain": [
       "{'user_id': '1736768120428040192',\n",
       " 'screen_name': 'q7f8q5h8c876733',\n",
       " 'description': '',\n",
       " 'profile_image': 'https://abs.twimg.com/sticky/default_profile_images/default_profile_normal.png',\n",
       " 'statuses_count': 0,\n",
       " 'followers_count': 0,\n",
       " 'friends_count': 1,\n",
       " 'media_count': 0,\n",
       " 'name': 'q7f8q5h8c8k2q4'}"
      ]
     },
     "metadata": {},
     "output_type": "display_data"
    },
    {
     "data": {
      "text/plain": [
       "{'user_id': '1736767838050766849',\n",
       " 'screen_name': 'KevinZ2060308',\n",
       " 'description': '',\n",
       " 'profile_image': 'https://abs.twimg.com/sticky/default_profile_images/default_profile_normal.png',\n",
       " 'statuses_count': 0,\n",
       " 'followers_count': 0,\n",
       " 'friends_count': 7,\n",
       " 'media_count': 0,\n",
       " 'name': 'Kevin Z'}"
      ]
     },
     "metadata": {},
     "output_type": "display_data"
    },
    {
     "data": {
      "text/plain": [
       "{'user_id': '1736767780458811392',\n",
       " 'screen_name': 'wikibalboa',\n",
       " 'description': 'jeszcze bedzie hajc',\n",
       " 'profile_image': 'https://pbs.twimg.com/profile_images/1736768166578008064/imPqM4VK_normal.jpg',\n",
       " 'statuses_count': 0,\n",
       " 'followers_count': 0,\n",
       " 'friends_count': 15,\n",
       " 'media_count': 0,\n",
       " 'name': 'Wiktoria'}"
      ]
     },
     "metadata": {},
     "output_type": "display_data"
    },
    {
     "data": {
      "text/plain": [
       "{'user_id': '1736767447330361344',\n",
       " 'screen_name': 'KuchtaRebe42560',\n",
       " 'description': '',\n",
       " 'profile_image': 'https://abs.twimg.com/sticky/default_profile_images/default_profile_normal.png',\n",
       " 'statuses_count': 0,\n",
       " 'followers_count': 0,\n",
       " 'friends_count': 2,\n",
       " 'media_count': 0,\n",
       " 'name': 'Rebecca Kuchta'}"
      ]
     },
     "metadata": {},
     "output_type": "display_data"
    },
    {
     "data": {
      "text/plain": [
       "{'user_id': '1736768105664430080',\n",
       " 'screen_name': 'hanni6799',\n",
       " 'description': '',\n",
       " 'profile_image': 'https://abs.twimg.com/sticky/default_profile_images/default_profile_normal.png',\n",
       " 'statuses_count': 0,\n",
       " 'followers_count': 0,\n",
       " 'friends_count': 4,\n",
       " 'media_count': 0,\n",
       " 'name': 'hanni6799'}"
      ]
     },
     "metadata": {},
     "output_type": "display_data"
    },
    {
     "data": {
      "text/plain": [
       "{'user_id': '1736766980135292928',\n",
       " 'screen_name': 'KimberlyEv14511',\n",
       " 'description': '',\n",
       " 'profile_image': 'https://abs.twimg.com/sticky/default_profile_images/default_profile_normal.png',\n",
       " 'statuses_count': 0,\n",
       " 'followers_count': 0,\n",
       " 'friends_count': 2,\n",
       " 'media_count': 0,\n",
       " 'name': 'Kimberly Evans'}"
      ]
     },
     "metadata": {},
     "output_type": "display_data"
    },
    {
     "data": {
      "text/plain": [
       "{'user_id': '1736768112404430848',\n",
       " 'screen_name': 'Ye4presid3nt',\n",
       " 'description': '',\n",
       " 'profile_image': 'https://abs.twimg.com/sticky/default_profile_images/default_profile_normal.png',\n",
       " 'statuses_count': 0,\n",
       " 'followers_count': 0,\n",
       " 'friends_count': 2,\n",
       " 'media_count': 0,\n",
       " 'name': 'Lemo'}"
      ]
     },
     "metadata": {},
     "output_type": "display_data"
    },
    {
     "data": {
      "text/plain": [
       "{'user_id': '1736767957152288768',\n",
       " 'screen_name': 'HakimMahzoul',\n",
       " 'description': '',\n",
       " 'profile_image': 'https://pbs.twimg.com/profile_images/1736768159544119297/ks6UVw46_normal.png',\n",
       " 'statuses_count': 0,\n",
       " 'followers_count': 0,\n",
       " 'friends_count': 1,\n",
       " 'media_count': 0,\n",
       " 'name': 'Hakim MAHZOUL'}"
      ]
     },
     "metadata": {},
     "output_type": "display_data"
    },
    {
     "data": {
      "text/plain": [
       "{'user_id': '1736767806748651520',\n",
       " 'screen_name': 'BluntHeidi42139',\n",
       " 'description': '',\n",
       " 'profile_image': 'https://abs.twimg.com/sticky/default_profile_images/default_profile_normal.png',\n",
       " 'statuses_count': 0,\n",
       " 'followers_count': 0,\n",
       " 'friends_count': 3,\n",
       " 'media_count': 0,\n",
       " 'name': 'Heidi Blunt'}"
      ]
     },
     "metadata": {},
     "output_type": "display_data"
    },
    {
     "data": {
      "text/plain": [
       "{'user_id': '1736768154758770688',\n",
       " 'screen_name': 'idohyeon270135',\n",
       " 'description': '',\n",
       " 'profile_image': 'https://pbs.twimg.com/profile_images/1736768384828874752/oRpP5lPp_normal.png',\n",
       " 'statuses_count': 0,\n",
       " 'followers_count': 0,\n",
       " 'friends_count': 0,\n",
       " 'media_count': 0,\n",
       " 'name': '이도현'}"
      ]
     },
     "metadata": {},
     "output_type": "display_data"
    },
    {
     "data": {
      "text/plain": [
       "{'user_id': '1699458988323037188',\n",
       " 'screen_name': 'ELISA5867597058',\n",
       " 'description': '',\n",
       " 'profile_image': 'https://abs.twimg.com/sticky/default_profile_images/default_profile_normal.png',\n",
       " 'statuses_count': 1,\n",
       " 'followers_count': 0,\n",
       " 'friends_count': 5,\n",
       " 'media_count': 0,\n",
       " 'name': 'ELISA'}"
      ]
     },
     "metadata": {},
     "output_type": "display_data"
    }
   ],
   "source": [
    "for f in response.json()[\"followers\"]:\n",
    "    if f[\"followers_count\"] == 0:\n",
    "        display(f)"
   ]
  },
  {
   "cell_type": "markdown",
   "metadata": {},
   "source": [
    "# User replies"
   ]
  },
  {
   "cell_type": "code",
   "execution_count": 73,
   "metadata": {},
   "outputs": [],
   "source": [
    "import requests\n",
    "\n",
    "url = \"https://twitter-api45.p.rapidapi.com/replies.php\"\n",
    "\n",
    "querystring = {\"screenname\":\"elonmusk\"}\n",
    "\n",
    "headers = {\n",
    "\t\"X-RapidAPI-Key\": \"929a28e077msh76a649de6e684b6p1b5654jsnb2563a519484\",\n",
    "\t\"X-RapidAPI-Host\": \"twitter-api45.p.rapidapi.com\"\n",
    "}\n",
    "\n",
    "response_3 = requests.get(url, headers=headers, params=querystring)"
   ]
  },
  {
   "cell_type": "code",
   "execution_count": 80,
   "metadata": {},
   "outputs": [
    {
     "data": {
      "text/plain": [
       "{'tweet_id': '1736531085939404880',\n",
       " 'bookmarks': 5,\n",
       " 'created_at': 'Sun Dec 17 23:37:28 +0000 2023',\n",
       " 'favorites': 483,\n",
       " 'text': '@GavinSBaker Yeah',\n",
       " 'lang': 'en',\n",
       " 'views': '37559',\n",
       " 'quotes': 3,\n",
       " 'replies': 43,\n",
       " 'retweets': 33,\n",
       " 'conversation_id': '1736526232022376628',\n",
       " 'media': [],\n",
       " 'author': {'rest_id': '44196397',\n",
       "  'name': 'Elon Musk',\n",
       "  'screen_name': 'elonmusk',\n",
       "  'avatar': 'https://pbs.twimg.com/profile_images/1683325380441128960/yRsRRjGO_normal.jpg',\n",
       "  'blue_verified': True}}"
      ]
     },
     "execution_count": 80,
     "metadata": {},
     "output_type": "execute_result"
    }
   ],
   "source": [
    "response_3.json()[\"timeline\"][-1]"
   ]
  },
  {
   "cell_type": "markdown",
   "metadata": {},
   "source": [
    "# following"
   ]
  },
  {
   "cell_type": "code",
   "execution_count": 81,
   "metadata": {},
   "outputs": [
    {
     "data": {
      "text/plain": [
       "dict_keys(['following', 'next_cursor', 'status', 'more_users'])"
      ]
     },
     "execution_count": 81,
     "metadata": {},
     "output_type": "execute_result"
    }
   ],
   "source": [
    "import requests\n",
    "\n",
    "url = \"https://twitter-api45.p.rapidapi.com/following.php\"\n",
    "\n",
    "querystring = {\"screenname\":\"elonmusk\"}\n",
    "\n",
    "headers = {\n",
    "\t\"X-RapidAPI-Key\": \"929a28e077msh76a649de6e684b6p1b5654jsnb2563a519484\",\n",
    "\t\"X-RapidAPI-Host\": \"twitter-api45.p.rapidapi.com\"\n",
    "}\n",
    "\n",
    "response_4 = requests.get(url, headers=headers, params=querystring)\n",
    "response_4.json().keys()"
   ]
  },
  {
   "cell_type": "code",
   "execution_count": 85,
   "metadata": {},
   "outputs": [
    {
     "data": {
      "text/plain": [
       "69"
      ]
     },
     "execution_count": 85,
     "metadata": {},
     "output_type": "execute_result"
    }
   ],
   "source": [
    "response_4.json()[\"following\"].__len__()"
   ]
  },
  {
   "cell_type": "markdown",
   "metadata": {},
   "source": [
    "# favorites"
   ]
  },
  {
   "cell_type": "code",
   "execution_count": 86,
   "metadata": {},
   "outputs": [
    {
     "data": {
      "text/plain": [
       "dict_keys(['favorites', 'cursor'])"
      ]
     },
     "execution_count": 86,
     "metadata": {},
     "output_type": "execute_result"
    }
   ],
   "source": [
    "import requests\n",
    "\n",
    "url = \"https://twitter-api45.p.rapidapi.com/favorites.php\"\n",
    "\n",
    "querystring = {\"id\": \"1703348962697396461\"}\n",
    "\n",
    "headers = {\n",
    "\t\"X-RapidAPI-Key\": \"929a28e077msh76a649de6e684b6p1b5654jsnb2563a519484\",\n",
    "\t\"X-RapidAPI-Host\": \"twitter-api45.p.rapidapi.com\"\n",
    "}\n",
    "\n",
    "response_5 = requests.get(url, headers=headers, params=querystring)\n",
    "response_5.json().keys()"
   ]
  },
  {
   "cell_type": "code",
   "execution_count": 92,
   "metadata": {},
   "outputs": [
    {
     "data": {
      "text/plain": [
       "20"
      ]
     },
     "execution_count": 92,
     "metadata": {},
     "output_type": "execute_result"
    }
   ],
   "source": [
    "len(response_5.json()[\"favorites\"])"
   ]
  },
  {
   "cell_type": "code",
   "execution_count": null,
   "metadata": {},
   "outputs": [],
   "source": []
  },
  {
   "cell_type": "code",
   "execution_count": null,
   "metadata": {},
   "outputs": [],
   "source": []
  },
  {
   "cell_type": "code",
   "execution_count": null,
   "metadata": {},
   "outputs": [],
   "source": []
  },
  {
   "cell_type": "code",
   "execution_count": null,
   "metadata": {},
   "outputs": [],
   "source": []
  },
  {
   "cell_type": "code",
   "execution_count": null,
   "metadata": {},
   "outputs": [],
   "source": [
    "broken_responses = []\n",
    "for i, row in df_acc.iterrows():\n",
    "    if i<=49:\n",
    "        continue\n",
    "    screenname = row[\"screenName\"]\n",
    "    ######## --> profile_url = row[\"profileUrl\"]\n",
    "\n",
    "    params = ParamsUserTimeline(screenname=screenname, cursor=\"\")\n",
    "    req_args = UserTimeline(params=params)\n",
    "    response = responser.get_response(req_args)\n",
    "    try:\n",
    "        response_json = response.json()\n",
    "        db_tw.coll.raw.insert_one({\n",
    "            \"endpoint\": \"user_timeline\",\n",
    "            \"params\": req_args.model_dump(),\n",
    "            \"response_json\": response_json\n",
    "        })\n",
    "        df_acc.loc[i, \"exists\"] = \"si\"\n",
    "    except:\n",
    "        print(screenname)\n",
    "        df_acc.loc[i, \"exists\"] = \"no\"\n",
    "        broken_responses.append({\n",
    "            \"i\": i,\n",
    "            \"screenname\": screenname,\n",
    "            \"response\": response,\n",
    "            \"req_args\": req_args\n",
    "        })\n",
    "    if i==49:\n",
    "        break"
   ]
  },
  {
   "cell_type": "markdown",
   "metadata": {},
   "source": [
    "- 50 -> 3m 9.4seg\n",
    "- 3.78s/requests"
   ]
  },
  {
   "cell_type": "code",
   "execution_count": null,
   "metadata": {},
   "outputs": [],
   "source": [
    "len(broken_responses)"
   ]
  },
  {
   "cell_type": "code",
   "execution_count": null,
   "metadata": {},
   "outputs": [],
   "source": []
  },
  {
   "cell_type": "code",
   "execution_count": null,
   "metadata": {},
   "outputs": [],
   "source": []
  },
  {
   "cell_type": "code",
   "execution_count": null,
   "metadata": {},
   "outputs": [],
   "source": []
  },
  {
   "cell_type": "code",
   "execution_count": null,
   "metadata": {},
   "outputs": [],
   "source": []
  },
  {
   "cell_type": "code",
   "execution_count": null,
   "metadata": {},
   "outputs": [],
   "source": []
  },
  {
   "cell_type": "code",
   "execution_count": null,
   "metadata": {},
   "outputs": [],
   "source": []
  },
  {
   "cell_type": "code",
   "execution_count": null,
   "metadata": {},
   "outputs": [],
   "source": []
  },
  {
   "cell_type": "code",
   "execution_count": null,
   "metadata": {},
   "outputs": [],
   "source": []
  },
  {
   "cell_type": "code",
   "execution_count": null,
   "metadata": {},
   "outputs": [],
   "source": [
    "import requests\n",
    "import time\n",
    "\n",
    "base_url = \"https://twitter-api45.p.rapidapi.com/following.php\"\n",
    "headers = {\n",
    "    'X-RapidAPI-Key': \"929a28e077msh76a649de6e684b6p1b5654jsnb2563a519484\",\n",
    "    'X-RapidAPI-Host': \"twitter-api45.p.rapidapi.com\"\n",
    "}\n",
    "\n",
    "def get_response(base_url, headers, params):\n",
    "    return requests.get(base_url, headers=headers, params=params)\n",
    "\n",
    "def get_followers(screen_name, rapidapi_key):\n",
    "    cursor = \"\"\n",
    "    following_array = []\n",
    "\n",
    "    while True:\n",
    "        params = {'screenname': screen_name, 'cursor': cursor}\n",
    "        response = get_response(base_url, headers, params)\n",
    "        followers_data = response.json()\n",
    "        \n",
    "        following_array.append(followers_data['following'])\n",
    "        cursor = followers_data.get('next_cursor')\n",
    "        \n",
    "        if not cursor or not followers_data['following']:\n",
    "            break\n",
    "        \n",
    "        time.sleep(1)  # Respect API rate limits\n",
    "\n",
    "    return following_array\n",
    "\n",
    "rapidapi_key = \"929a28e077msh76a649de6e684b6p1b5654jsnb2563a519484\"\n",
    "screen_name = \"zachxbt\"\n",
    "followers_list = get_followers(screen_name, rapidapi_key)\n"
   ]
  },
  {
   "cell_type": "code",
   "execution_count": null,
   "metadata": {},
   "outputs": [],
   "source": []
  },
  {
   "cell_type": "code",
   "execution_count": null,
   "metadata": {},
   "outputs": [],
   "source": []
  },
  {
   "cell_type": "code",
   "execution_count": null,
   "metadata": {},
   "outputs": [],
   "source": []
  },
  {
   "cell_type": "code",
   "execution_count": null,
   "metadata": {},
   "outputs": [],
   "source": []
  },
  {
   "cell_type": "code",
   "execution_count": null,
   "metadata": {},
   "outputs": [],
   "source": []
  },
  {
   "cell_type": "markdown",
   "metadata": {},
   "source": [
    "# _"
   ]
  },
  {
   "cell_type": "markdown",
   "metadata": {},
   "source": [
    "Hi Vera,\n",
    "\n",
    "I have some exciting news to share with you. Please allow me one additional day to finalize the integration, as I have discovered an API that is both cost-effective and feature-rich. This API offers an incredible deal at only $5 per month for 100,000 requests with no limit on the number of requests per second, providing the same information we need.\n",
    "\n",
    "I just need to adapt the data extraction to this new source, which won’t require significant changes due to the scalability of my existing code. This is perfect, especially considering the volume of accounts we are dealing with:\n",
    "\n",
    "- We can retrieve the profile and latest tweets for each account, which instantly gives us valuable insights into account activity and interests.\n",
    "- For those accounts with a substantial follower base, we can fetch all followers using the API's pagination feature. While this is computationally demanding, the affordability of the API at $5 allows us to consider parallelizing requests across multiple accounts.\n",
    "\n",
    "I apologize for the shifts in direction; such adjustments are part of the process as we delve deeper into the project and test our approaches.\n",
    "\n",
    "I'm thrilled about this discovery and plan to make the most of the 1,000 free requests available to us for testing purposes today.\n",
    "\n",
    "Thank you for your patience and understanding as we navigate through these optimizations.\n"
   ]
  },
  {
   "cell_type": "code",
   "execution_count": null,
   "metadata": {},
   "outputs": [],
   "source": [
    "\"\"\"\n",
    "from pymongo import MongoClient\n",
    "\n",
    "for doc in db_tw.coll.raw.find():\n",
    "    endpoint_value = doc.get('endpoint')\n",
    "    params_value = doc.get('params')\n",
    "\n",
    "    params_value['endpoint_name'] = endpoint_value\n",
    "\n",
    "    # Preparar la actualización\n",
    "    new_values = {\n",
    "        \"$set\": {\n",
    "            \"req_args\": params_value  # Cambiar 'params' a 'req_args'\n",
    "        },\n",
    "        \"$unset\": {\n",
    "            \"endpoint\": \"\",  # Eliminar el campo 'endpoint'\n",
    "            \"params\": \"\"  # Eliminar el campo 'params' original\n",
    "        }\n",
    "    }\n",
    "\n",
    "    # Actualizar el documento\n",
    "    db_tw.coll.raw.update_one({\"_id\": doc['_id']}, new_values)\n",
    "\"\"\""
   ]
  },
  {
   "cell_type": "code",
   "execution_count": null,
   "metadata": {},
   "outputs": [],
   "source": [
    "'''\n",
    "from concurrent.futures import ThreadPoolExecutor, as_completed\n",
    "import random\n",
    "import time\n",
    "\n",
    "def some_function(i: int) -> dict:\n",
    "    time.sleep(2)\n",
    "    return {\"i\": i}\n",
    "\n",
    "max_workers = 100\n",
    "\n",
    "with ThreadPoolExecutor(max_workers=max_workers) as executor:\n",
    "    futures = (executor.submit(some_function, i) for i in range(100))\n",
    "\n",
    "    for future in as_completed(futures):\n",
    "        result = future.result()\n",
    "        print(result)\n",
    "'''"
   ]
  }
 ],
 "metadata": {
  "kernelspec": {
   "display_name": "env",
   "language": "python",
   "name": "python3"
  },
  "language_info": {
   "codemirror_mode": {
    "name": "ipython",
    "version": 3
   },
   "file_extension": ".py",
   "mimetype": "text/x-python",
   "name": "python",
   "nbconvert_exporter": "python",
   "pygments_lexer": "ipython3",
   "version": "3.11.6"
  }
 },
 "nbformat": 4,
 "nbformat_minor": 2
}
