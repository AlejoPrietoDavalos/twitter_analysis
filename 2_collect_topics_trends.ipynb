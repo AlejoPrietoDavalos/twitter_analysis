{
 "cells": [
  {
   "cell_type": "markdown",
   "metadata": {},
   "source": [
    "- With 2 it should work without problems.\n",
    "- If your computer resists you can try with 3 or 4.\n",
    "- Try between 2 and 4, and close absolutely everything that is running on your computer at the time.\n",
    "- But more does not guarantee greater speed, because there is a hardware limit.\n",
    "- Sometimes increasing processes makes it slower."
   ]
  },
  {
   "cell_type": "code",
   "execution_count": null,
   "metadata": {},
   "outputs": [],
   "source": [
    "from scraping_kit.const import TOPICS_FROM_TRENDS\n",
    "import subprocess\n",
    "N_PROCESS = 2   # WARNING!! READ ABOVE.\n",
    "subprocess.run([\n",
    "    \"python3\",\n",
    "    \"ignore_me_collect_topics_trends.py\",\n",
    "    str(N_PROCESS),\n",
    "    TOPICS_FROM_TRENDS\n",
    "])"
   ]
  }
 ],
 "metadata": {
  "kernelspec": {
   "display_name": "env",
   "language": "python",
   "name": "python3"
  },
  "language_info": {
   "codemirror_mode": {
    "name": "ipython",
    "version": 3
   },
   "file_extension": ".py",
   "mimetype": "text/x-python",
   "name": "python",
   "nbconvert_exporter": "python",
   "pygments_lexer": "ipython3",
   "version": "3.11.6"
  }
 },
 "nbformat": 4,
 "nbformat_minor": 2
}
