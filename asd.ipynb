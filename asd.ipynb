{
 "cells": [
  {
   "cell_type": "code",
   "execution_count": null,
   "metadata": {},
   "outputs": [],
   "source": [
    "print(\"hola\")"
   ]
  },
  {
   "cell_type": "code",
   "execution_count": 1,
   "metadata": {},
   "outputs": [
    {
     "name": "stdout",
     "output_type": "stream",
     "text": [
      "Collection Names: ['trends', 'raw', 'topics']\n",
      "Bots: bots=[BotScraper(acc_name='Vera')]\n"
     ]
    }
   ],
   "source": [
    "from pathlib import Path\n",
    "\n",
    "from twitter_trends import ArgsTwitterTrends, ParamsTwitterTrends, WOEIDCountry, requests_and_process\n",
    "from scraping_kit import BotScraper, load_db_and_bots\n",
    "\n",
    "path_data = Path(\"data\")\n",
    "db_tw, bots = load_db_and_bots(path_data, \"scrape_tw\")"
   ]
  },
  {
   "cell_type": "code",
   "execution_count": 2,
   "metadata": {},
   "outputs": [],
   "source": [
    "from scraping_kit.db.models.topics import Topic\n",
    "topics: list[Topic] = []\n",
    "for doc in db_tw.coll.topics.find():\n",
    "    topic = Topic(**doc)\n",
    "    topics.append(topic)\n"
   ]
  },
  {
   "cell_type": "code",
   "execution_count": 3,
   "metadata": {},
   "outputs": [],
   "source": [
    "import json\n",
    "with open(\"CLASSES_TWITTER.json\", \"r\") as f:\n",
    "    CLASSES_TWITTER = json.load(f)"
   ]
  },
  {
   "cell_type": "code",
   "execution_count": 8,
   "metadata": {},
   "outputs": [
    {
     "name": "stderr",
     "output_type": "stream",
     "text": [
      "Some weights of the PyTorch model were not used when initializing the TF 2.0 model TFBartForSequenceClassification: ['model.encoder.version', 'model.decoder.version']\n",
      "- This IS expected if you are initializing TFBartForSequenceClassification from a PyTorch model trained on another task or with another architecture (e.g. initializing a TFBertForSequenceClassification model from a BertForPreTraining model).\n",
      "- This IS NOT expected if you are initializing TFBartForSequenceClassification from a PyTorch model that you expect to be exactly identical (e.g. initializing a TFBertForSequenceClassification model from a BertForSequenceClassification model).\n",
      "All the weights of TFBartForSequenceClassification were initialized from the PyTorch model.\n",
      "If your task is similar to the task the model of the checkpoint was trained on, you can already use TFBartForSequenceClassification for predictions without further training.\n"
     ]
    }
   ],
   "source": [
    "from transformers import pipeline\n",
    "classifier = pipeline(\"zero-shot-classification\", model=\"facebook/bart-large-mnli\")\n",
    "\n"
   ]
  },
  {
   "cell_type": "code",
   "execution_count": 13,
   "metadata": {},
   "outputs": [
    {
     "data": {
      "text/plain": [
       "Topic(trend_name='Christmas', topic_classes=TopicClasses(text='the 3 Kings arrive to Bethlehem on the 6th of January to see baby Jesus . we put some wine and cookies for the Kings\\nher chip had been registered to t.co/GsmqJ9qosQ . she was left for dead in\\nmalcy had to take him out of the box about a MILLION TIMES . he did everything he could\\nLiving room when the Christmas tree comes down https://t.co/wTLcYjYh7a\\nThis thread will cover some interesting points from a recent interview I read concerning the celebration of Christmas in Japan. 1/9 https://t.co/enIh5T7SZG', labels=['technology', 'entertainment', 'news', 'food', 'travel', 'arts & culture', 'careers', 'hobbies & interests', 'gaming', 'science', 'music', 'business & finance', 'outdoors', 'sports', 'movies and tv', 'fashion & beauty'], scores=[0.6827396154403687, 0.5170348286628723, 0.4710201323032379, 0.36188793182373047, 0.2930907607078552, 0.27791041135787964, 0.12259001284837723, 0.1096777468919754, 0.10653416812419891, 0.06674693524837494, 0.0641884058713913, 0.041573427617549896, 0.03832785040140152, 0.02861103042960167, 0.026102187111973763, 0.00984210055321455]), creation_date=datetime.datetime(2024, 1, 6, 17, 2, 58, 848000))"
      ]
     },
     "execution_count": 13,
     "metadata": {},
     "output_type": "execute_result"
    }
   ],
   "source": [
    "topics[0]"
   ]
  },
  {
   "cell_type": "code",
   "execution_count": 19,
   "metadata": {},
   "outputs": [
    {
     "data": {
      "text/plain": [
       "['technology', 'entertainment']"
      ]
     },
     "execution_count": 19,
     "metadata": {},
     "output_type": "execute_result"
    }
   ],
   "source": [
    "threshold = 0.5\n",
    "text = topics[0].topic_classes.text\n",
    "labels, scores = topics[0].get_labels_scores_thresh(threshold)\n",
    "labels"
   ]
  },
  {
   "cell_type": "code",
   "execution_count": 20,
   "metadata": {},
   "outputs": [
    {
     "name": "stdout",
     "output_type": "stream",
     "text": [
      "2\n"
     ]
    },
    {
     "data": {
      "text/plain": [
       "['Technology',\n",
       " 'Augmented reality',\n",
       " 'Cloud computing',\n",
       " 'Cloud platforms',\n",
       " 'Computer programming',\n",
       " 'Cryptocurrencies',\n",
       " 'Data science',\n",
       " 'Databases',\n",
       " 'Drone technology',\n",
       " 'FinTech',\n",
       " 'Information security',\n",
       " 'Internet of things',\n",
       " 'Tech brands',\n",
       " 'Tech news',\n",
       " 'Tech personalities',\n",
       " 'Virtual reality',\n",
       " 'Entertainment',\n",
       " 'Celebrities',\n",
       " 'Comedy',\n",
       " 'Digital creators',\n",
       " 'Entertainment brands',\n",
       " 'Popular franchises',\n",
       " 'Theater']"
      ]
     },
     "execution_count": 20,
     "metadata": {},
     "output_type": "execute_result"
    }
   ],
   "source": [
    "print(len(labels))\n",
    "TOPICS2 = []\n",
    "for label in labels:\n",
    "    TOPICS2.extend(CLASSES_TWITTER[label])\n",
    "TOPICS2"
   ]
  },
  {
   "cell_type": "code",
   "execution_count": 21,
   "metadata": {},
   "outputs": [
    {
     "data": {
      "text/plain": [
       "{'sequence': 'the 3 Kings arrive to Bethlehem on the 6th of January to see baby Jesus . we put some wine and cookies for the Kings\\nher chip had been registered to t.co/GsmqJ9qosQ . she was left for dead in\\nmalcy had to take him out of the box about a MILLION TIMES . he did everything he could\\nLiving room when the Christmas tree comes down https://t.co/wTLcYjYh7a\\nThis thread will cover some interesting points from a recent interview I read concerning the celebration of Christmas in Japan. 1/9 https://t.co/enIh5T7SZG',\n",
       " 'labels': ['Internet of things',\n",
       "  'Digital creators',\n",
       "  'Tech personalities',\n",
       "  'Entertainment',\n",
       "  'Tech brands',\n",
       "  'Entertainment brands',\n",
       "  'Technology',\n",
       "  'Information security',\n",
       "  'Tech news',\n",
       "  'Popular franchises',\n",
       "  'Comedy',\n",
       "  'Augmented reality',\n",
       "  'Cloud platforms',\n",
       "  'FinTech',\n",
       "  'Computer programming',\n",
       "  'Theater',\n",
       "  'Data science',\n",
       "  'Cloud computing',\n",
       "  'Databases',\n",
       "  'Virtual reality',\n",
       "  'Drone technology',\n",
       "  'Celebrities',\n",
       "  'Cryptocurrencies'],\n",
       " 'scores': [0.8616119027137756,\n",
       "  0.7350763082504272,\n",
       "  0.5260190963745117,\n",
       "  0.5001412630081177,\n",
       "  0.39115431904792786,\n",
       "  0.37641069293022156,\n",
       "  0.3757546544075012,\n",
       "  0.31679031252861023,\n",
       "  0.25962767004966736,\n",
       "  0.25878846645355225,\n",
       "  0.24424239993095398,\n",
       "  0.16974098980426788,\n",
       "  0.14121738076210022,\n",
       "  0.13947588205337524,\n",
       "  0.13815677165985107,\n",
       "  0.12023813277482986,\n",
       "  0.10456652194261551,\n",
       "  0.053541604429483414,\n",
       "  0.03412089869379997,\n",
       "  0.03017096407711506,\n",
       "  0.022245457395911217,\n",
       "  0.02017984539270401,\n",
       "  0.006208106875419617]}"
      ]
     },
     "execution_count": 21,
     "metadata": {},
     "output_type": "execute_result"
    }
   ],
   "source": [
    "asd = classifier(\n",
    "    text,\n",
    "    candidate_labels = TOPICS2,\n",
    "    multi_label = True\n",
    ")\n",
    "asd"
   ]
  },
  {
   "cell_type": "code",
   "execution_count": null,
   "metadata": {},
   "outputs": [],
   "source": []
  },
  {
   "cell_type": "code",
   "execution_count": null,
   "metadata": {},
   "outputs": [],
   "source": []
  },
  {
   "cell_type": "code",
   "execution_count": null,
   "metadata": {},
   "outputs": [],
   "source": []
  },
  {
   "cell_type": "code",
   "execution_count": null,
   "metadata": {},
   "outputs": [],
   "source": [
    "import json\n",
    "with open(\"asd.json\", \"w\") as f:\n",
    "    json.dump(topics, f, default=lambda obj: obj.isoformat())"
   ]
  }
 ],
 "metadata": {
  "kernelspec": {
   "display_name": "env",
   "language": "python",
   "name": "python3"
  },
  "language_info": {
   "codemirror_mode": {
    "name": "ipython",
    "version": 3
   },
   "file_extension": ".py",
   "mimetype": "text/x-python",
   "name": "python",
   "nbconvert_exporter": "python",
   "pygments_lexer": "ipython3",
   "version": "3.11.6"
  }
 },
 "nbformat": 4,
 "nbformat_minor": 2
}
